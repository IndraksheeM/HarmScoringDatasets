{
 "cells": [
  {
   "cell_type": "code",
   "execution_count": 2,
   "metadata": {},
   "outputs": [],
   "source": [
    "import undetected_chromedriver as uc\n",
    "import time\n",
    "import json\n",
    "from tqdm import tqdm  # Progress bar\n",
    "from selenium.webdriver.common.by import By\n",
    "from selenium.webdriver.common.keys import Keys\n",
    "from selenium.webdriver.support.ui import WebDriverWait\n",
    "from selenium.webdriver.support import expected_conditions as EC\n",
    "from selenium.common.exceptions import TimeoutException, NoSuchElementException\n",
    "import pandas as pd \n",
    "import os\n",
    "from bs4 import BeautifulSoup"
   ]
  },
  {
   "cell_type": "code",
   "execution_count": 3,
   "metadata": {},
   "outputs": [],
   "source": [
    "# Start Chrome\n",
    "driver = uc.Chrome(headless=False, use_subprocess=True)\n",
    "# time.sleep(60)  # Allow page to load\n",
    "#driver.quit()"
   ]
  },
  {
   "cell_type": "code",
   "execution_count": 62,
   "metadata": {},
   "outputs": [],
   "source": [
    "driver.get(\"https://www.instagram.com/p/DGcuJ47OgtM/\")"
   ]
  },
  {
   "cell_type": "code",
   "execution_count": null,
   "metadata": {},
   "outputs": [],
   "source": [
    "def login():\n",
    "    driver.get(\"https://www.instagram.com/accounts/login/\")\n",
    "\n",
    "    driver.find_element(By.CSS_SELECTOR, \"body > div.x1n2onr6.xzkaem6 > div.x9f619.x1n2onr6.x1ja2u2z > div > div.x1uvtmcs.x4k7w5x.x1h91t0o.x1beo9mf.xaigb6o.x12ejxvf.x3igimt.xarpa2k.xedcshv.x1lytzrv.x1t2pt76.x7ja8zs.x1n2onr6.x1qrby5j.x1jfb8zj > div > div > div > div > div.x7r02ix.xf1ldfh.x131esax.xdajt7p.xxfnqb6.xb88tzc.xw2csxc.x1odjw0f.x5fp0pe.x5yr21d.x19onx9a > div > button._a9--._ap36._a9_1\").click()\n",
    "\n",
    "    time.sleep(1)\n",
    "    driver.find_element(By.CSS_SELECTOR, \"#loginForm > div.x9f619.xjbqb8w.x78zum5.x168nmei.x13lgxp2.x5pf9jr.xo71vjh.xqui205.x1n2onr6.x1plvlek.xryxfnj.x1c4vz4f.x2lah0s.xdt5ytf.xqjyukv.x1qjc9v5.x1oa3qoh.x1nhvcw1 > div:nth-child(5) > button\").click()\n",
    "    time.sleep(1)\n",
    "\n",
    "    driver.find_element(By.CSS_SELECTOR, \"body > div._10.uiLayer._4-hy._3qw > div._59s7._9l2g > div > div > div > div > div:nth-child(3) > div.x1exxf4d.x13fuv20.x178xt8z.x1l90r2v.x1pi30zi.x1swvt13 > div > div:nth-child(1) > div.x1i10hfl.xjbqb8w.x1ejq31n.xd10rxx.x1sy0etr.x17r0tee.x972fbf.xcfux6l.x1qhh985.xm0m39n.x1ypdohk.xe8uvvx.xdj266r.x11i5rnm.xat24cr.x1mh8g0r.xexx8yu.x4uap5.x18d9i69.xkhd6sd.x16tdsg8.x1hl2dhg.xggy1nq.x1o1ewxj.x3x9cwd.x1e5q0jg.x13rtm0m.x87ps6o.x1lku1pv.x1a2a7pz.x9f619.x3nfvp2.xdt5ytf.xl56j7k.x1n2onr6.xh8yej3 > div > div.x6s0dn4.x78zum5.xl56j7k.x1608yet.xljgi0e.x1e0frkt > div > span > span\").click()\n",
    "\n",
    "\n",
    "    login = driver.find_element(By.XPATH, '//*[@id=\"email\"]')\n",
    "\n",
    "    login.send_keys(\"\")\n",
    "\n",
    "    password = driver.find_element(By.XPATH, '//*[@id=\"pass\"]')\n",
    "\n",
    "    password.send_keys(\"\")\n",
    "    password.send_keys(Keys.RETURN)\n",
    "\n",
    "    time.sleep(3)"
   ]
  },
  {
   "cell_type": "code",
   "execution_count": 285,
   "metadata": {},
   "outputs": [],
   "source": [
    "def get_post_ids(uname):\n",
    "    \"\"\"\n",
    "    Given a username, return a list of post ids after scrolling 5 times\n",
    "    \"\"\"\n",
    "    driver.get(f\"https://www.instagram.com/{uname}/\")\n",
    "    time.sleep(2)\n",
    "    for i in range(5):\n",
    "        driver.execute_script(\"window.scrollTo(0, document.body.scrollHeight);\")\n",
    "        time.sleep(2)\n",
    "    soup = BeautifulSoup(driver.page_source, 'html.parser')\n",
    "\n",
    "    posts = [i['href'] for i in soup.find_all(\"a\") if f\"{uname}/p/\" in i['href'] or f'{uname}/reel/' in i['href']]\n",
    "    return posts"
   ]
  },
  {
   "cell_type": "code",
   "execution_count": null,
   "metadata": {},
   "outputs": [],
   "source": [
    "def get_profile_details(soup):\n",
    "    profile_details = {}\n",
    "    num_posts, num_followers, num_following = [i.getText() for i in soup.find(\"ul\").find_all(\"li\")]\n",
    "    bio = soup.find(\"ul\").parent.next_sibling.getText(separator=\" \")\n",
    "    profile_details[\"num_posts\"] = num_posts.split(\" \")[0]\n",
    "    profile_details[\"num_followers\"] = num_followers.split(\" \")[0]\n",
    "    profile_details[\"num_following\"] = num_following.split(\" \")[0]\n",
    "    profile_details[\"bio\"] = bio\n",
    "    profile_details['profile_picture'] = soup.find(\"img\")['src']\n",
    "    profile_details[\"verified\"] = False\n",
    "    titles = soup.find_all(\"title\")\n",
    "\n",
    "    for title in titles:\n",
    "        if \"Verified\" in title.getText():\n",
    "            profile_details[\"verified\"] = True\n",
    "            break\n",
    "    \n",
    "    return profile_details"
   ]
  },
  {
   "cell_type": "code",
   "execution_count": null,
   "metadata": {},
   "outputs": [],
   "source": [
    "\n",
    "def save_json(data, filename):\n",
    "    \"\"\"Append a JSON object to a JSON file, creating the file if it doesn't exist.\"\"\"\n",
    "    # Check if the file exists\n",
    "    if os.path.exists(filename):\n",
    "        # Load existing data\n",
    "        with open(filename, \"r\", encoding=\"utf-8\") as file:\n",
    "            try:\n",
    "                existing_data = json.load(file)\n",
    "                if not isinstance(existing_data, list):  # Ensure it's a list\n",
    "                    existing_data = [existing_data]\n",
    "            except json.JSONDecodeError:\n",
    "                existing_data = []  # If file is empty or invalid\n",
    "\n",
    "        # Append new data\n",
    "        existing_data.append(data)\n",
    "\n",
    "        # Save updated JSON\n",
    "        with open(filename, \"w\", encoding=\"utf-8\") as file:\n",
    "            json.dump(existing_data, file, indent=4, ensure_ascii=False)\n",
    "    \n",
    "    else:\n",
    "        # If file doesn't exist, create it and write the data as a list\n",
    "        with open(filename, \"w\", encoding=\"utf-8\") as file:\n",
    "            json.dump([data], file, indent=4, ensure_ascii=False)\n",
    "\n",
    "    print(f\"Data saved to {filename}\")\n"
   ]
  },
  {
   "cell_type": "code",
   "execution_count": 119,
   "metadata": {},
   "outputs": [],
   "source": [
    "def process_profile(uname):\n",
    "    driver.get(f\"https://www.instagram.com/{uname}/\")\n",
    "    time.sleep(2)\n",
    "    soup = BeautifulSoup(driver.page_source, 'html.parser')\n",
    "    profile_details = get_profile_details(soup)\n",
    "    posts = get_post_ids(uname)\n",
    "    profile_details[\"posts\"] = posts\n",
    "\n",
    "    save_json(profile_details, \"profiles.json\")\n",
    "    return profile_details"
   ]
  },
  {
   "cell_type": "code",
   "execution_count": 316,
   "metadata": {},
   "outputs": [],
   "source": [
    "from bs4 import BeautifulSoup\n",
    "import hashlib\n",
    "import json\n",
    "\n",
    "def load_comments():\n",
    "    comments_section = driver.find_element(By.XPATH, '//section/main//div/div[1]/div/div[2]')\n",
    "\n",
    "    while True:\n",
    "        driver.execute_script(\"arguments[0].scrollTop = arguments[0].scrollHeight\", comments_section)\n",
    "        time.sleep(2)  \n",
    "\n",
    "        try:\n",
    "            load_more_button = driver.find_element(By.XPATH, \"//button[contains(text(), 'Load more comments')]\")\n",
    "            driver.execute_script(\"arguments[0].click();\", load_more_button)  \n",
    "            print(\"Clicked 'Load more comments' button\")\n",
    "            time.sleep(2)  \n",
    "        except NoSuchElementException:\n",
    "            prev_height = driver.execute_script(\"return arguments[0].scrollHeight\", comments_section)\n",
    "            driver.execute_script(\"arguments[0].scrollTop = arguments[0].scrollHeight\", comments_section)\n",
    "            time.sleep(2)\n",
    "            new_height = driver.execute_script(\"return arguments[0].scrollHeight\", comments_section)\n",
    "\n",
    "            if prev_height == new_height:  \n",
    "                print(\"Reached the end of comments.\")\n",
    "                break\n",
    "\n",
    "def extract_comment(comment, hidden=False):\n",
    "    try:\n",
    "        username = comment.find(\"a\")['href'].strip().replace(\"/\", \"\")\n",
    "        thumbnail_tag = comment.find(\"img\")\n",
    "        thumbnail = thumbnail_tag[\"src\"] if thumbnail_tag else None  \n",
    "\n",
    "        comment_text = comment.find(\"span\", class_='_ap3a _aaco _aacu _aacx _aad7 _aade')\n",
    "        comment_text = comment_text.text.strip() if comment_text else None\n",
    "\n",
    "        comment_image = comment.find(\"img\")[\"src\"] if comment.find(\"img\") else None\n",
    "\n",
    "        spans = comment.find_all(\"span\")\n",
    "        num_likes, english, num_replies = None, True, None\n",
    "        for span in spans:\n",
    "            text = span.getText(separator=' ')\n",
    "            if text.endswith('likes'):\n",
    "                num_likes = int(text.split(\" \")[0])\n",
    "            if \"Translation\" in text:\n",
    "                english = False\n",
    "            if \"replies\" in text:\n",
    "                num_replies = int(text.split(\" \")[-1].replace(\"(\", \"\").replace(\")\", \"\"))\n",
    "\n",
    "        time_tag = comment.find(\"time\")\n",
    "        commented_time = time_tag.text.strip() if time_tag else None\n",
    "\n",
    "        comment_id = hashlib.md5(comment_text.encode()).hexdigest() if comment_text else None\n",
    "\n",
    "        return {\n",
    "            \"username\": username,\n",
    "            \"thumbnail\": thumbnail,\n",
    "            \"comment\": comment_text,\n",
    "            \"comment_image\": comment_image,\n",
    "            \"likes\": num_likes,\n",
    "            \"replies\": num_replies,\n",
    "            \"time\": commented_time,\n",
    "            \"english\": english,\n",
    "            \"comment_id\": comment_id,\n",
    "            \"hidden\": hidden\n",
    "        }\n",
    "    except Exception as e:\n",
    "        print(f\"Error extracting comment: {e}\")\n",
    "        return None\n",
    "    \n",
    "def get_comments(comment_objects, hidden=False):\n",
    "    extracted_comments = [extract_comment(comment, hidden=hidden) for comment in comment_objects if extract_comment(comment, hidden=hidden)]\n",
    "    return extracted_comments\n",
    "\n",
    "def get_all_comments():\n",
    "    load_comments()\n",
    "    comments_html = driver.find_element(By.XPATH, \"//article//ul\").get_attribute(\"outerHTML\")\n",
    "    soup = BeautifulSoup(comments_html, \"html.parser\")\n",
    "\n",
    "    comment_objects = soup.find_all('div', recursive=False)\n",
    "    extracted_comments = get_comments(comment_objects)\n",
    "\n",
    "    try:\n",
    "        hidden_button = driver.find_element(By.XPATH, \"//span[contains(., 'View hidden comments')]\")\n",
    "        driver.execute_script(\"arguments[0].click();\", hidden_button)\n",
    "        time.sleep(2)  \n",
    "    except NoSuchElementException:\n",
    "        print(\"No hidden comments found.\")\n",
    "\n",
    "    load_comments()\n",
    "    hidden_comments_html = driver.find_element(By.XPATH, \"//article//ul\").get_attribute(\"outerHTML\")\n",
    "    soup_hidden = BeautifulSoup(hidden_comments_html, \"html.parser\")\n",
    "    hidden_comment_objects = soup_hidden.find_all('div', recursive=False)\n",
    "    extracted_hidden_comments = get_comments(hidden_comment_objects, hidden=True)\n",
    "\n",
    "    extracted_comments.extend(extracted_hidden_comments)\n",
    "    return extracted_comments\n",
    "\n",
    "def save_comments(postId, comments):\n",
    "    filename = f\"comments/{postId}_comments.json\"\n",
    "    with open(filename, 'w', encoding='utf-8') as file:\n",
    "        json.dump(comments, file, indent=4, ensure_ascii=False)\n",
    "    print(f\"Comments saved to {filename}\")  "
   ]
  },
  {
   "cell_type": "code",
   "execution_count": 271,
   "metadata": {},
   "outputs": [],
   "source": [
    "def download_post(postId):\n",
    "    import requests\n",
    "    if \"/p/\" in postId:\n",
    "        img_tag = soup.find(\"article\").find(\"img\")\n",
    "        img_url = img_tag['src']\n",
    "        alt_text = img_tag.get(\"alt\", \"No description available\")\n",
    "         # Extract post ID from URL\n",
    "        post_id = postId.split(\"/\")[-2]\n",
    "        save_path = f\"downloads/{post_id}\"\n",
    "        os.makedirs(save_path, exist_ok=True)\n",
    "\n",
    "        # Download the image\n",
    "        img_data = requests.get(img_url).content\n",
    "        with open(f\"{save_path}/{post_id}.jpg\", \"wb\") as img_file:\n",
    "            img_file.write(img_data)\n",
    "\n",
    "        # Save alt text (caption)\n",
    "        with open(f\"{save_path}/{post_id}.txt\", \"w\", encoding=\"utf-8\") as txt_file:\n",
    "            txt_file.write(alt_text)\n",
    "        \n",
    "\n",
    "    else:\n",
    "        import instaloader\n",
    "\n",
    "        # Create an Instaloader instance\n",
    "        loader = instaloader.Instaloader()\n",
    "\n",
    "        # Reel ID (shortcode from URL)\n",
    "        reel_id = postId.split(\"/\")[-2]\n",
    "        # Define the download path\n",
    "        download_path = f\"downloads/{reel_id}\"\n",
    "\n",
    "        # Create the directory if it doesn't exist\n",
    "        os.makedirs(download_path, exist_ok=True)\n",
    "\n",
    "        # Change Instaloader's download directory\n",
    "        loader.dirname_pattern = download_path  # Ensures the reel is saved in its own folder\n",
    "\n",
    "        # Download the reel\n",
    "        post = instaloader.Post.from_shortcode(loader.context, reel_id)\n",
    "        loader.download_post(post, target=download_path)\n"
   ]
  },
  {
   "cell_type": "code",
   "execution_count": 279,
   "metadata": {},
   "outputs": [],
   "source": [
    "userlist = [\n",
    "    'https://www.instagram.com/littlemissflint/?hl=en#',\n",
    "    'https://www.instagram.com/_morganmcguire_/?hl=en#',\n",
    "    'https://www.instagram.com/anokhina_elizabeth_2007/?hl=en#',\n",
    "    'https://www.instagram.com/nianaguerrero/?hl=en#',\n",
    "    'https://www.instagram.com/deja_clarkk/?hl=en#',\n",
    "    'https://www.instagram.com/everleighrose/?hl=en#',\n",
    "    'https://www.instagram.com/rateel.alshehri/?hl=en#',\n",
    "    'https://www.instagram.com/shakhedc/#', \n",
    "    'https://www.instagram.com/immirahbadkid/?hl=en#',\n",
    "    'https://www.instagram.com/iamzainabfaisal/?hl=en#',\n",
    "    'https://www.instagram.com/kaitrumpgolfer/?hl=en#',\n",
    "    'https://www.instagram.com/ananyasharmamusic/?hl=en#',\n",
    "    'https://www.instagram.com/kennedy_curves_/?hl=en#',\n",
    "    'https://www.instagram.com/lessiesjournal/?hl=en#',\n",
    "    'https://www.instagram.com/anna.simone.s/?hl=en#',\n",
    "    'https://www.instagram.com/mohamed_baidani/?hl=en#',\n",
    "    'https://www.instagram.com/amirelates/?hl=en#',\n",
    "    'https://www.instagram.com/ambardriscoll/',\n",
    "    'https://www.instagram.com/mayandnate/',\n",
    "    'https://www.instagram.com/luluscorneroftheworld/', \n",
    "    'https://www.instagram.com/alwaysalittleextra/', \n",
    "    'https://www.instagram.com/bishamberdas/', \n",
    "    'https://www.instagram.com/thechubbytwirler/',\n",
    "    'https://www.instagram.com/posh_heat/',\n",
    "    'https://www.instagram.com/adityamadiraju/' \n",
    "]\n",
    "\n",
    "users = [user.split(\"/\")[-2] for user in userlist]"
   ]
  },
  {
   "cell_type": "code",
   "execution_count": 287,
   "metadata": {},
   "outputs": [],
   "source": [
    "login()"
   ]
  },
  {
   "cell_type": "code",
   "execution_count": null,
   "metadata": {},
   "outputs": [
    {
     "name": "stderr",
     "output_type": "stream",
     "text": [
      "  4%|▍         | 1/25 [00:15<06:12, 15.52s/it]"
     ]
    },
    {
     "name": "stdout",
     "output_type": "stream",
     "text": [
      "Data saved to profiles.json\n"
     ]
    },
    {
     "name": "stderr",
     "output_type": "stream",
     "text": [
      "  8%|▊         | 2/25 [00:30<05:55, 15.47s/it]"
     ]
    },
    {
     "name": "stdout",
     "output_type": "stream",
     "text": [
      "Data saved to profiles.json\n"
     ]
    },
    {
     "name": "stderr",
     "output_type": "stream",
     "text": [
      " 12%|█▏        | 3/25 [00:46<05:39, 15.43s/it]"
     ]
    },
    {
     "name": "stdout",
     "output_type": "stream",
     "text": [
      "Data saved to profiles.json\n"
     ]
    },
    {
     "name": "stderr",
     "output_type": "stream",
     "text": [
      " 16%|█▌        | 4/25 [01:01<05:23, 15.41s/it]"
     ]
    },
    {
     "name": "stdout",
     "output_type": "stream",
     "text": [
      "Data saved to profiles.json\n"
     ]
    },
    {
     "name": "stderr",
     "output_type": "stream",
     "text": [
      " 20%|██        | 5/25 [01:17<05:10, 15.52s/it]"
     ]
    },
    {
     "name": "stdout",
     "output_type": "stream",
     "text": [
      "Data saved to profiles.json\n"
     ]
    },
    {
     "name": "stderr",
     "output_type": "stream",
     "text": [
      " 24%|██▍       | 6/25 [01:32<04:53, 15.47s/it]"
     ]
    },
    {
     "name": "stdout",
     "output_type": "stream",
     "text": [
      "Data saved to profiles.json\n"
     ]
    },
    {
     "name": "stderr",
     "output_type": "stream",
     "text": [
      " 28%|██▊       | 7/25 [01:48<04:38, 15.48s/it]"
     ]
    },
    {
     "name": "stdout",
     "output_type": "stream",
     "text": [
      "Data saved to profiles.json\n"
     ]
    },
    {
     "name": "stderr",
     "output_type": "stream",
     "text": [
      " 32%|███▏      | 8/25 [02:03<04:23, 15.50s/it]"
     ]
    },
    {
     "name": "stdout",
     "output_type": "stream",
     "text": [
      "Data saved to profiles.json\n"
     ]
    },
    {
     "name": "stderr",
     "output_type": "stream",
     "text": [
      " 36%|███▌      | 9/25 [02:19<04:08, 15.54s/it]"
     ]
    },
    {
     "name": "stdout",
     "output_type": "stream",
     "text": [
      "Data saved to profiles.json\n"
     ]
    },
    {
     "name": "stderr",
     "output_type": "stream",
     "text": [
      " 40%|████      | 10/25 [02:34<03:52, 15.49s/it]"
     ]
    },
    {
     "name": "stdout",
     "output_type": "stream",
     "text": [
      "Data saved to profiles.json\n"
     ]
    },
    {
     "name": "stderr",
     "output_type": "stream",
     "text": [
      " 44%|████▍     | 11/25 [02:50<03:36, 15.44s/it]"
     ]
    },
    {
     "name": "stdout",
     "output_type": "stream",
     "text": [
      "Data saved to profiles.json\n"
     ]
    },
    {
     "name": "stderr",
     "output_type": "stream",
     "text": [
      " 48%|████▊     | 12/25 [03:05<03:20, 15.39s/it]"
     ]
    },
    {
     "name": "stdout",
     "output_type": "stream",
     "text": [
      "Data saved to profiles.json\n"
     ]
    },
    {
     "name": "stderr",
     "output_type": "stream",
     "text": [
      " 52%|█████▏    | 13/25 [03:21<03:05, 15.49s/it]"
     ]
    },
    {
     "name": "stdout",
     "output_type": "stream",
     "text": [
      "Data saved to profiles.json\n"
     ]
    },
    {
     "name": "stderr",
     "output_type": "stream",
     "text": [
      " 56%|█████▌    | 14/25 [03:36<02:50, 15.51s/it]"
     ]
    },
    {
     "name": "stdout",
     "output_type": "stream",
     "text": [
      "Data saved to profiles.json\n"
     ]
    },
    {
     "name": "stderr",
     "output_type": "stream",
     "text": [
      " 60%|██████    | 15/25 [03:52<02:34, 15.47s/it]"
     ]
    },
    {
     "name": "stdout",
     "output_type": "stream",
     "text": [
      "Data saved to profiles.json\n"
     ]
    },
    {
     "name": "stderr",
     "output_type": "stream",
     "text": [
      " 64%|██████▍   | 16/25 [04:07<02:18, 15.43s/it]"
     ]
    },
    {
     "name": "stdout",
     "output_type": "stream",
     "text": [
      "Data saved to profiles.json\n"
     ]
    },
    {
     "name": "stderr",
     "output_type": "stream",
     "text": [
      " 68%|██████▊   | 17/25 [04:22<02:03, 15.39s/it]"
     ]
    },
    {
     "name": "stdout",
     "output_type": "stream",
     "text": [
      "Data saved to profiles.json\n"
     ]
    },
    {
     "name": "stderr",
     "output_type": "stream",
     "text": [
      " 72%|███████▏  | 18/25 [04:38<01:48, 15.44s/it]"
     ]
    },
    {
     "name": "stdout",
     "output_type": "stream",
     "text": [
      "Data saved to profiles.json\n"
     ]
    },
    {
     "name": "stderr",
     "output_type": "stream",
     "text": [
      " 76%|███████▌  | 19/25 [04:53<01:33, 15.50s/it]"
     ]
    },
    {
     "name": "stdout",
     "output_type": "stream",
     "text": [
      "Data saved to profiles.json\n"
     ]
    },
    {
     "name": "stderr",
     "output_type": "stream",
     "text": [
      " 80%|████████  | 20/25 [05:10<01:18, 15.68s/it]"
     ]
    },
    {
     "name": "stdout",
     "output_type": "stream",
     "text": [
      "Data saved to profiles.json\n"
     ]
    },
    {
     "name": "stderr",
     "output_type": "stream",
     "text": [
      " 84%|████████▍ | 21/25 [05:25<01:02, 15.60s/it]"
     ]
    },
    {
     "name": "stdout",
     "output_type": "stream",
     "text": [
      "Data saved to profiles.json\n"
     ]
    },
    {
     "name": "stderr",
     "output_type": "stream",
     "text": [
      " 88%|████████▊ | 22/25 [05:40<00:46, 15.56s/it]"
     ]
    },
    {
     "name": "stdout",
     "output_type": "stream",
     "text": [
      "Data saved to profiles.json\n"
     ]
    },
    {
     "name": "stderr",
     "output_type": "stream",
     "text": [
      " 92%|█████████▏| 23/25 [05:56<00:30, 15.49s/it]"
     ]
    },
    {
     "name": "stdout",
     "output_type": "stream",
     "text": [
      "Data saved to profiles.json\n"
     ]
    },
    {
     "name": "stderr",
     "output_type": "stream",
     "text": [
      " 96%|█████████▌| 24/25 [06:11<00:15, 15.45s/it]"
     ]
    },
    {
     "name": "stdout",
     "output_type": "stream",
     "text": [
      "Data saved to profiles.json\n"
     ]
    },
    {
     "name": "stderr",
     "output_type": "stream",
     "text": [
      "100%|██████████| 25/25 [06:27<00:00, 15.48s/it]"
     ]
    },
    {
     "name": "stdout",
     "output_type": "stream",
     "text": [
      "Data saved to profiles.json\n"
     ]
    },
    {
     "name": "stderr",
     "output_type": "stream",
     "text": [
      "\n"
     ]
    }
   ],
   "source": [
    "# Step 1: get profile details\n",
    "for user in tqdm(users):\n",
    "    process_profile(user)"
   ]
  },
  {
   "cell_type": "code",
   "execution_count": null,
   "metadata": {},
   "outputs": [],
   "source": [
    "# Step 2: read the profile details\n",
    "with open(\"profiles.json\", \"r\", encoding=\"utf-8\") as file:\n",
    "    profiles = json.load(file)"
   ]
  },
  {
   "cell_type": "code",
   "execution_count": 292,
   "metadata": {},
   "outputs": [],
   "source": [
    "fnames = os.listdir(\"downloads\")"
   ]
  },
  {
   "cell_type": "code",
   "execution_count": null,
   "metadata": {},
   "outputs": [],
   "source": []
  },
  {
   "cell_type": "code",
   "execution_count": 297,
   "metadata": {},
   "outputs": [],
   "source": [
    "skipped = []"
   ]
  },
  {
   "cell_type": "code",
   "execution_count": 298,
   "metadata": {},
   "outputs": [
    {
     "name": "stderr",
     "output_type": "stream",
     "text": [
      "100%|██████████| 36/36 [00:00<00:00, 522473.85it/s]\n",
      "100%|██████████| 33/33 [00:00<00:00, 558113.03it/s]\n",
      "100%|██████████| 16/16 [00:00<00:00, 422068.33it/s]\n",
      "100%|██████████| 29/29 [00:00<00:00, 633514.67it/s]\n",
      "100%|██████████| 41/41 [00:00<00:00, 167445.44it/s]\n",
      "JSON Query to graphql/query: 401 Unauthorized - \"fail\" status, message \"Please wait a few minutes before you try again.\" when accessing https://www.instagram.com/graphql/query [retrying; skip with ^C]\n",
      "JSON Query to graphql/query: 401 Unauthorized - \"fail\" status, message \"Please wait a few minutes before you try again.\" when accessing https://www.instagram.com/graphql/query?variables=%7B%22shortcode%22%3A%22CmfRbtOoYPt%22%7D&doc_id=8845758582119845&server_timestamps=true [retrying; skip with ^C]\n"
     ]
    },
    {
     "name": "stdout",
     "output_type": "stream",
     "text": [
      "Error downloading post: /everleighrose/reel/CmfRbtOoYPt/\n"
     ]
    },
    {
     "name": "stderr",
     "output_type": "stream",
     "text": [
      "JSON Query to graphql/query: 401 Unauthorized - \"fail\" status, message \"Please wait a few minutes before you try again.\" when accessing https://www.instagram.com/graphql/query [retrying; skip with ^C]\n",
      "JSON Query to graphql/query: 401 Unauthorized - \"fail\" status, message \"Please wait a few minutes before you try again.\" when accessing https://www.instagram.com/graphql/query?variables=%7B%22shortcode%22%3A%22CkHb1FzjoZO%22%7D&doc_id=8845758582119845&server_timestamps=true [retrying; skip with ^C]\n"
     ]
    },
    {
     "name": "stdout",
     "output_type": "stream",
     "text": [
      "Error downloading post: /everleighrose/reel/CkHb1FzjoZO/\n"
     ]
    },
    {
     "name": "stderr",
     "output_type": "stream",
     "text": [
      "JSON Query to graphql/query: 401 Unauthorized - \"fail\" status, message \"Please wait a few minutes before you try again.\" when accessing https://www.instagram.com/graphql/query [retrying; skip with ^C]\n",
      "JSON Query to graphql/query: 401 Unauthorized - \"fail\" status, message \"Please wait a few minutes before you try again.\" when accessing https://www.instagram.com/graphql/query?variables=%7B%22shortcode%22%3A%22CclMGRnJhUF%22%7D&doc_id=8845758582119845&server_timestamps=true [retrying; skip with ^C]\n"
     ]
    },
    {
     "name": "stdout",
     "output_type": "stream",
     "text": [
      "Error downloading post: /everleighrose/reel/CclMGRnJhUF/\n"
     ]
    },
    {
     "name": "stderr",
     "output_type": "stream",
     "text": [
      "JSON Query to graphql/query: 401 Unauthorized - \"fail\" status, message \"Please wait a few minutes before you try again.\" when accessing https://www.instagram.com/graphql/query [retrying; skip with ^C]\n",
      "JSON Query to graphql/query: 401 Unauthorized - \"fail\" status, message \"Please wait a few minutes before you try again.\" when accessing https://www.instagram.com/graphql/query?variables=%7B%22shortcode%22%3A%22CYAG8SRI77z%22%7D&doc_id=8845758582119845&server_timestamps=true [retrying; skip with ^C]\n"
     ]
    },
    {
     "name": "stdout",
     "output_type": "stream",
     "text": [
      "Error downloading post: /everleighrose/reel/CYAG8SRI77z/\n"
     ]
    },
    {
     "name": "stderr",
     "output_type": "stream",
     "text": [
      "JSON Query to graphql/query: 401 Unauthorized - \"fail\" status, message \"Please wait a few minutes before you try again.\" when accessing https://www.instagram.com/graphql/query [retrying; skip with ^C]\n",
      "JSON Query to graphql/query: 401 Unauthorized - \"fail\" status, message \"Please wait a few minutes before you try again.\" when accessing https://www.instagram.com/graphql/query?variables=%7B%22shortcode%22%3A%22CUn9az_lWdw%22%7D&doc_id=8845758582119845&server_timestamps=true [retrying; skip with ^C]\n"
     ]
    },
    {
     "name": "stdout",
     "output_type": "stream",
     "text": [
      "Error downloading post: /everleighrose/reel/CUn9az_lWdw/\n"
     ]
    },
    {
     "name": "stderr",
     "output_type": "stream",
     "text": [
      "JSON Query to graphql/query: 401 Unauthorized - \"fail\" status, message \"Please wait a few minutes before you try again.\" when accessing https://www.instagram.com/graphql/query [retrying; skip with ^C]\n",
      "JSON Query to graphql/query: 401 Unauthorized - \"fail\" status, message \"Please wait a few minutes before you try again.\" when accessing https://www.instagram.com/graphql/query?variables=%7B%22shortcode%22%3A%22CSrxh54Jv1D%22%7D&doc_id=8845758582119845&server_timestamps=true [retrying; skip with ^C]\n"
     ]
    },
    {
     "name": "stdout",
     "output_type": "stream",
     "text": [
      "Error downloading post: /everleighrose/reel/CSrxh54Jv1D/\n"
     ]
    },
    {
     "name": "stderr",
     "output_type": "stream",
     "text": [
      "JSON Query to graphql/query: 401 Unauthorized - \"fail\" status, message \"Please wait a few minutes before you try again.\" when accessing https://www.instagram.com/graphql/query [retrying; skip with ^C]\n",
      "JSON Query to graphql/query: 401 Unauthorized - \"fail\" status, message \"Please wait a few minutes before you try again.\" when accessing https://www.instagram.com/graphql/query?variables=%7B%22shortcode%22%3A%22COwRO59DjjO%22%7D&doc_id=8845758582119845&server_timestamps=true [retrying; skip with ^C]\n"
     ]
    },
    {
     "name": "stdout",
     "output_type": "stream",
     "text": [
      "Error downloading post: /everleighrose/reel/COwRO59DjjO/\n"
     ]
    },
    {
     "name": "stderr",
     "output_type": "stream",
     "text": [
      "JSON Query to graphql/query: 401 Unauthorized - \"fail\" status, message \"Please wait a few minutes before you try again.\" when accessing https://www.instagram.com/graphql/query [retrying; skip with ^C]\n",
      "JSON Query to graphql/query: 401 Unauthorized - \"fail\" status, message \"Please wait a few minutes before you try again.\" when accessing https://www.instagram.com/graphql/query?variables=%7B%22shortcode%22%3A%22COnd66LDr3Q%22%7D&doc_id=8845758582119845&server_timestamps=true [retrying; skip with ^C]\n"
     ]
    },
    {
     "name": "stdout",
     "output_type": "stream",
     "text": [
      "Error downloading post: /everleighrose/reel/COnd66LDr3Q/\n"
     ]
    },
    {
     "name": "stderr",
     "output_type": "stream",
     "text": [
      "100%|██████████| 44/44 [02:38<00:00,  3.60s/it]\n",
      " 24%|██▍       | 6/25 [02:38<08:21, 26.37s/it]JSON Query to graphql/query: 401 Unauthorized - \"fail\" status, message \"Please wait a few minutes before you try again.\" when accessing https://www.instagram.com/graphql/query [retrying; skip with ^C]\n",
      "JSON Query to graphql/query: 401 Unauthorized - \"fail\" status, message \"Please wait a few minutes before you try again.\" when accessing https://www.instagram.com/graphql/query?variables=%7B%22shortcode%22%3A%22DGIZI6VtTpl%22%7D&doc_id=8845758582119845&server_timestamps=true [retrying; skip with ^C]\n"
     ]
    },
    {
     "name": "stdout",
     "output_type": "stream",
     "text": [
      "Error downloading post: /rateel.alshehri/reel/DGIZI6VtTpl/\n"
     ]
    },
    {
     "name": "stderr",
     "output_type": "stream",
     "text": [
      "JSON Query to graphql/query: 401 Unauthorized - \"fail\" status, message \"Please wait a few minutes before you try again.\" when accessing https://www.instagram.com/graphql/query [retrying; skip with ^C]\n",
      "JSON Query to graphql/query: 401 Unauthorized - \"fail\" status, message \"Please wait a few minutes before you try again.\" when accessing https://www.instagram.com/graphql/query?variables=%7B%22shortcode%22%3A%22DF-fGgitrKW%22%7D&doc_id=8845758582119845&server_timestamps=true [retrying; skip with ^C]\n"
     ]
    },
    {
     "name": "stdout",
     "output_type": "stream",
     "text": [
      "Error downloading post: /rateel.alshehri/reel/DF-fGgitrKW/\n"
     ]
    },
    {
     "name": "stderr",
     "output_type": "stream",
     "text": [
      "100%|██████████| 35/35 [00:15<00:00,  2.30it/s]\n",
      " 28%|██▊       | 7/25 [02:53<07:16, 24.23s/it]"
     ]
    },
    {
     "name": "stdout",
     "output_type": "stream",
     "text": [
      "Error downloading post: /rateel.alshehri/reel/DFz-2pRtOpn/\n",
      "Error downloading post: /rateel.alshehri/reel/DFm9xHatteP/\n",
      "Error downloading post: /rateel.alshehri/reel/DFkcigftlEF/\n",
      "Error downloading post: /rateel.alshehri/reel/DFfXbb7NczR/\n",
      "Error downloading post: /rateel.alshehri/reel/DFYJLPeNwqS/\n",
      "Error downloading post: /rateel.alshehri/reel/DFS7t7yteOF/\n",
      "Error downloading post: /rateel.alshehri/reel/DFQfD4lNlLy/\n",
      "Error downloading post: /rateel.alshehri/reel/DFN0McNtLRa/\n",
      "Error downloading post: /rateel.alshehri/reel/DFLpVGltsus/\n",
      "Error downloading post: /rateel.alshehri/reel/DFKu56Dt7F0/\n",
      "Error downloading post: /rateel.alshehri/reel/DFI9qAUNNrn/\n",
      "Error downloading post: /rateel.alshehri/reel/DFFr3aotfv7/\n",
      "Error downloading post: /rateel.alshehri/p/DFAwPx6t4Hi/\n",
      "Error downloading post: /rateel.alshehri/reel/DFAC4HMtbno/\n",
      "Error downloading post: /rateel.alshehri/reel/DE-_N1Qt3aB/\n",
      "Error downloading post: /rateel.alshehri/p/DE3IIrmIWll/\n",
      "Error downloading post: /rateel.alshehri/p/DE3FVb9I3qD/\n",
      "Error downloading post: /rateel.alshehri/reel/DE0mvKdoIy4/\n",
      "Error downloading post: /rateel.alshehri/reel/DEsWq10ohB6/\n",
      "Error downloading post: /rateel.alshehri/p/DEkit9xosw8/\n",
      "Error downloading post: /rateel.alshehri/p/DEiO9cCIzEP/\n",
      "Error downloading post: /rateel.alshehri/p/DEdNeJ8oMPu/\n",
      "Error downloading post: /rateel.alshehri/p/DEXLAjEIHN5/\n",
      "Error downloading post: /rateel.alshehri/reel/DEQte0CoKgU/\n",
      "Error downloading post: /rateel.alshehri/reel/DENxnlzI-ez/\n",
      "Error downloading post: /rateel.alshehri/reel/DEKHXY2o0vZ/\n",
      "Error downloading post: /rateel.alshehri/reel/DEICV7QIszF/\n",
      "Error downloading post: /rateel.alshehri/reel/DEE8-PaI31g/\n",
      "Error downloading post: /rateel.alshehri/p/DEC8ngSoRRb/\n",
      "Error downloading post: /rateel.alshehri/p/DEAAn59oqNu/\n",
      "Error downloading post: /rateel.alshehri/reel/DD39JwEI-De/\n",
      "Error downloading post: /rateel.alshehri/p/DD2OfuoocyV/\n",
      "Error downloading post: /rateel.alshehri/reel/DDzf-Xio7C2/\n"
     ]
    },
    {
     "name": "stderr",
     "output_type": "stream",
     "text": [
      "100%|██████████| 32/32 [00:00<00:00, 472.09it/s]\n"
     ]
    },
    {
     "name": "stdout",
     "output_type": "stream",
     "text": [
      "Error downloading post: /shakhedc/p/DEArjKAM5y3/\n",
      "Error downloading post: /shakhedc/p/DDxeWYJR4SJ/\n",
      "Error downloading post: /shakhedc/reel/DDtKqiiIw-C/\n",
      "Error downloading post: /shakhedc/p/DDSUTdTM3mQ/\n",
      "Error downloading post: /shakhedc/p/DCdWFYkoycl/\n",
      "Error downloading post: /shakhedc/reel/DB8ttVcsMgD/\n",
      "Error downloading post: /shakhedc/reel/DBbih8jsK3I/\n",
      "Error downloading post: /shakhedc/reel/DBMEdViMldA/\n",
      "Error downloading post: /shakhedc/p/DA6TIYYonMx/\n",
      "Error downloading post: /shakhedc/reel/DAnpJidMCBA/\n",
      "Error downloading post: /shakhedc/p/C-79KhVsMNS/\n",
      "Error downloading post: /shakhedc/p/C-2XmEjserI/\n",
      "Error downloading post: /shakhedc/p/C-I_XpXM5p7/\n",
      "Error downloading post: /shakhedc/p/C7RBwUVMStF/\n",
      "Error downloading post: /shakhedc/p/C7JJp5psmQl/\n",
      "Error downloading post: /shakhedc/reel/C4oDhsbLl8R/\n",
      "Error downloading post: /shakhedc/p/C4SszXTMR6z/\n",
      "Error downloading post: /shakhedc/reel/C36JYvdMJge/\n",
      "Error downloading post: /shakhedc/reel/C2mxa3gMZL0/\n",
      "Error downloading post: /shakhedc/reel/C2mxW_Ks8jV/\n",
      "Error downloading post: /shakhedc/p/C1hZYWnsoqZ/\n",
      "Error downloading post: /shakhedc/reel/C0fPBa5sBDa/\n",
      "Error downloading post: /shakhedc/reel/C0XdET6r9H_/\n",
      "Error downloading post: /shakhedc/reel/CzjiQo9LFBs/\n",
      "Error downloading post: /shakhedc/reel/CxdGaT_sSPs/\n",
      "Error downloading post: /shakhedc/p/Cm08lVVDBg4/\n",
      "Error downloading post: /shakhedc/reel/CmeXlS1pVKN/\n",
      "Error downloading post: /shakhedc/reel/CmeROMApsMU/\n",
      "Error downloading post: /shakhedc/p/CkRgp8lDPO_/\n",
      "Error downloading post: /shakhedc/p/ChShYmFDba4/\n",
      "Error downloading post: /shakhedc/reel/CZprC_ajBx-/\n",
      "Error downloading post: /shakhedc/reel/CXGf50cjxi9/\n"
     ]
    },
    {
     "name": "stderr",
     "output_type": "stream",
     "text": []
    },
    {
     "name": "stdout",
     "output_type": "stream",
     "text": [
      "Error downloading post: /immirahbadkid/p/C2BcW21uFHD/\n",
      "Error downloading post: /immirahbadkid/p/C1S3aCHvYWD/\n",
      "Error downloading post: /immirahbadkid/p/C1DRXSyvt1m/\n",
      "Error downloading post: /immirahbadkid/p/C0AZUvWvLat/\n",
      "Error downloading post: /immirahbadkid/p/CzunQkjOTGY/\n",
      "Error downloading post: /immirahbadkid/p/CzXevuDuybP/\n",
      "Error downloading post: /immirahbadkid/p/Cye9O4ILo1F/\n",
      "Error downloading post: /immirahbadkid/p/CyZ_tvMu3gW/\n",
      "Error downloading post: /immirahbadkid/p/CySDpZpu_VZ/\n",
      "Error downloading post: /immirahbadkid/p/CtXyryMOel1/\n",
      "Error downloading post: /immirahbadkid/p/CsmmjiaPM6o/\n"
     ]
    },
    {
     "name": "stderr",
     "output_type": "stream",
     "text": [
      "100%|██████████| 38/38 [00:00<00:00, 472.77it/s]\n",
      " 36%|███▌      | 9/25 [02:53<04:10, 15.67s/it]"
     ]
    },
    {
     "name": "stdout",
     "output_type": "stream",
     "text": [
      "Error downloading post: /immirahbadkid/p/CsfZvnUuQ3R/\n",
      "Error downloading post: /immirahbadkid/p/CsPMkE5P7By/\n",
      "Error downloading post: /immirahbadkid/p/Cr9ayFyPEFv/\n",
      "Error downloading post: /immirahbadkid/p/CqqwbvYP82x/\n",
      "Error downloading post: /immirahbadkid/p/CqQmGKYOhfQ/\n",
      "Error downloading post: /immirahbadkid/p/Cp_j9aSOZ57/\n",
      "Error downloading post: /immirahbadkid/p/Cp3faa7v1uD/\n",
      "Error downloading post: /immirahbadkid/p/CptS_yDvvuX/\n",
      "Error downloading post: /immirahbadkid/p/Cpq5h_7u2hA/\n",
      "Error downloading post: /immirahbadkid/p/CpI_232PJpc/\n",
      "Error downloading post: /immirahbadkid/p/CpGQkGJvVNO/\n",
      "Error downloading post: /immirahbadkid/p/CpA-nRKvcoB/\n",
      "Error downloading post: /immirahbadkid/p/CmS38X8OU0T/\n",
      "Error downloading post: /immirahbadkid/p/Cl-hkg0OpuY/\n",
      "Error downloading post: /immirahbadkid/p/CjeRRkJOIDT/\n",
      "Error downloading post: /immirahbadkid/p/CjQ_PQZvOAM/\n",
      "Error downloading post: /immirahbadkid/p/CjL7415v3rJ/\n",
      "Error downloading post: /immirahbadkid/p/Ci8NATmvG5I/\n",
      "Error downloading post: /immirahbadkid/p/ChX6ozbvRW2/\n",
      "Error downloading post: /immirahbadkid/p/ChNT49aOJK2/\n",
      "Error downloading post: /immirahbadkid/p/Cd10AUtuY2K/\n",
      "Error downloading post: /immirahbadkid/p/CblyHH9uOXu/\n",
      "Error downloading post: /immirahbadkid/p/CbWDXq0OsmS/\n",
      "Error downloading post: /immirahbadkid/p/CX7ADthPbH9/\n",
      "Error downloading post: /immirahbadkid/p/CSVYHSCjXoN/\n",
      "Error downloading post: /immirahbadkid/reel/CR7n1c5jfXe/\n",
      "Error downloading post: /immirahbadkid/p/CJPOLGyleh0/\n"
     ]
    },
    {
     "name": "stderr",
     "output_type": "stream",
     "text": []
    },
    {
     "name": "stdout",
     "output_type": "stream",
     "text": [
      "Error downloading post: /iamzainabfaisal/reel/DA_Q36ViNXg/\n",
      "Error downloading post: /iamzainabfaisal/reel/C_7p789Cp9z/\n",
      "Error downloading post: /iamzainabfaisal/p/C_nqK-Qhl65/\n",
      "Error downloading post: /iamzainabfaisal/reel/C_krmKAiiZO/\n",
      "Error downloading post: /iamzainabfaisal/reel/C_c4oY6CEen/\n",
      "Error downloading post: /iamzainabfaisal/reel/C_acPWXixRc/\n",
      "Error downloading post: /iamzainabfaisal/reel/C_V1lUUCjI_/\n",
      "Error downloading post: /iamzainabfaisal/reel/C_AvrQkie7d/\n",
      "Error downloading post: /iamzainabfaisal/p/C-2ajBFBo5g/\n",
      "Error downloading post: /iamzainabfaisal/p/C-p1agRicXQ/\n",
      "Error downloading post: /iamzainabfaisal/p/C-f7izbCL4p/\n",
      "Error downloading post: /iamzainabfaisal/p/C-Xwii4CfEB/\n",
      "Error downloading post: /iamzainabfaisal/p/C974ScWiitw/\n"
     ]
    },
    {
     "name": "stderr",
     "output_type": "stream",
     "text": []
    },
    {
     "name": "stdout",
     "output_type": "stream",
     "text": [
      "Error downloading post: /iamzainabfaisal/p/C95CDwFi1J8/\n",
      "Error downloading post: /iamzainabfaisal/p/C9t-CafiCVd/\n",
      "Error downloading post: /iamzainabfaisal/reel/C9mqN9SCUyt/\n",
      "Error downloading post: /iamzainabfaisal/p/C9mgJ25iJea/\n",
      "Error downloading post: /iamzainabfaisal/p/C9jsSnGh1W-/\n",
      "Error downloading post: /iamzainabfaisal/p/C9UpijKi-yP/\n",
      "Error downloading post: /iamzainabfaisal/reel/C9SAIHBinYF/\n",
      "Error downloading post: /iamzainabfaisal/p/C9Fo5i9Cege/\n",
      "Error downloading post: /iamzainabfaisal/reel/C8_7R5ZCZwL/\n",
      "Error downloading post: /iamzainabfaisal/p/C84p43piJcH/\n",
      "Error downloading post: /iamzainabfaisal/p/C8jrIrtiZMm/\n",
      "Error downloading post: /iamzainabfaisal/reel/C8W2uzLs0Mk/\n",
      "Error downloading post: /iamzainabfaisal/reel/C8U5QF-sjsW/\n",
      "Error downloading post: /iamzainabfaisal/p/C8Uy5n2ssPJ/\n",
      "Error downloading post: /iamzainabfaisal/p/C8Hy-DsiD7Y/\n",
      "Error downloading post: /iamzainabfaisal/reel/C8HL9VZidXc/\n",
      "Error downloading post: /iamzainabfaisal/reel/C71eFWDCaJ2/\n",
      "Error downloading post: /iamzainabfaisal/p/C7zV_uqijjp/\n",
      "Error downloading post: /iamzainabfaisal/reel/C7gu9wtihqj/\n",
      "Error downloading post: /iamzainabfaisal/reel/C7WQsmnih5X/\n",
      "Error downloading post: /iamzainabfaisal/p/C7B3IOaCKyG/\n",
      "Error downloading post: /iamzainabfaisal/reel/C602Ilgi7MR/\n",
      "Error downloading post: /iamzainabfaisal/p/C6yKgJ4CSWJ/\n",
      "Error downloading post: /iamzainabfaisal/reel/C6bMWQ4CyMH/\n",
      "Error downloading post: /iamzainabfaisal/reel/C6Yp1IOCJNn/\n",
      "Error downloading post: /iamzainabfaisal/reel/C6OOSEPC7tH/\n",
      "Error downloading post: /iamzainabfaisal/reel/C6Bd2WzCpKe/\n",
      "Error downloading post: /iamzainabfaisal/p/C6BS3EtCc5T/\n",
      "Error downloading post: /iamzainabfaisal/reel/C58r2vei99s/\n"
     ]
    },
    {
     "name": "stderr",
     "output_type": "stream",
     "text": [
      "100%|██████████| 43/43 [00:00<00:00, 326.11it/s]\n"
     ]
    },
    {
     "name": "stdout",
     "output_type": "stream",
     "text": [
      "Error downloading post: /iamzainabfaisal/p/C5razh8iYIO/\n"
     ]
    },
    {
     "name": "stderr",
     "output_type": "stream",
     "text": []
    },
    {
     "name": "stdout",
     "output_type": "stream",
     "text": [
      "Error downloading post: /kaitrumpgolfer/reel/DE_Zh8csQEV/\n",
      "Error downloading post: /kaitrumpgolfer/p/DE8IrG7BsT5/\n",
      "Error downloading post: /kaitrumpgolfer/reel/DExkAFZO0vG/\n",
      "Error downloading post: /kaitrumpgolfer/p/DEdQ88BhJrp/\n",
      "Error downloading post: /kaitrumpgolfer/p/DENqT1TRY4m/\n",
      "Error downloading post: /kaitrumpgolfer/reel/DDz5JiPRD0x/\n",
      "Error downloading post: /kaitrumpgolfer/p/DDxdJmSBUW-/\n",
      "Error downloading post: /kaitrumpgolfer/reel/DDsZu5Yz0UM/\n",
      "Error downloading post: /kaitrumpgolfer/p/DDpsO53TCq4/\n",
      "Error downloading post: /kaitrumpgolfer/p/DDVVPynBBev/\n",
      "Error downloading post: /kaitrumpgolfer/p/DDFxR0qBxSu/\n",
      "Error downloading post: /kaitrumpgolfer/reel/DC-HWF1hqv5/\n",
      "Error downloading post: /kaitrumpgolfer/reel/DCpJfjvxwO-/\n",
      "Error downloading post: /kaitrumpgolfer/p/DCmj2VkRCG4/\n",
      "Error downloading post: /kaitrumpgolfer/p/DCNMoUiBFEb/\n",
      "Error downloading post: /kaitrumpgolfer/reel/DCIFKagBdrx/\n",
      "Error downloading post: /kaitrumpgolfer/p/DCCc878uKYv/\n",
      "Error downloading post: /kaitrumpgolfer/p/DB_r8VouSXc/\n",
      "Error downloading post: /kaitrumpgolfer/p/DB1zDD3Bx0_/\n",
      "Error downloading post: /kaitrumpgolfer/p/DBt3pADRhe5/\n",
      "Error downloading post: /kaitrumpgolfer/reel/DBbz7z_xxGt/\n",
      "Error downloading post: /kaitrumpgolfer/p/DBY9fjnOmUi/\n",
      "Error downloading post: /kaitrumpgolfer/reel/DBHZixLBDdo/\n",
      "Error downloading post: /kaitrumpgolfer/p/DA3_ygShS5u/\n",
      "Error downloading post: /kaitrumpgolfer/p/DA1gQZ7BD-R/\n",
      "Error downloading post: /kaitrumpgolfer/reel/DAtcON2uDin/\n",
      "Error downloading post: /kaitrumpgolfer/reel/DAl2BEbJtKa/\n",
      "Error downloading post: /kaitrumpgolfer/reel/DAHaTBDBadk/\n"
     ]
    },
    {
     "name": "stderr",
     "output_type": "stream",
     "text": [
      "100%|██████████| 44/44 [00:00<00:00, 434.56it/s]\n",
      " 44%|████▍     | 11/25 [02:53<02:26, 10.44s/it]"
     ]
    },
    {
     "name": "stdout",
     "output_type": "stream",
     "text": [
      "Error downloading post: /kaitrumpgolfer/p/C_wMe9UBDi-/\n",
      "Error downloading post: /kaitrumpgolfer/p/C9YakUDhhkc/\n",
      "Error downloading post: /kaitrumpgolfer/reel/C9QoemUBpg8/\n",
      "Error downloading post: /kaitrumpgolfer/p/C85AdZ4hoCo/\n",
      "Error downloading post: /kaitrumpgolfer/reel/C8ibdiWu-yh/\n",
      "Error downloading post: /kaitrumpgolfer/p/C8UaUVNOgh9/\n",
      "Error downloading post: /kaitrumpgolfer/p/C645hYvOJC6/\n",
      "Error downloading post: /kaitrumpgolfer/p/C512adJuO5H/\n",
      "Error downloading post: /kaitrumpgolfer/reel/C5rWmS_uDxg/\n",
      "Error downloading post: /kaitrumpgolfer/reel/C5hC3ruuVIn/\n",
      "Error downloading post: /kaitrumpgolfer/reel/C432UKquA5y/\n",
      "Error downloading post: /kaitrumpgolfer/p/C4y3LkkOMnp/\n",
      "Error downloading post: /kaitrumpgolfer/p/C4jQCteukPm/\n",
      "Error downloading post: /kaitrumpgolfer/reel/C38mJ-AOC5b/\n",
      "Error downloading post: /kaitrumpgolfer/reel/C28U05quKgG/\n",
      "Error downloading post: /kaitrumpgolfer/reel/C2vevxdOjcZ/\n"
     ]
    },
    {
     "name": "stderr",
     "output_type": "stream",
     "text": []
    },
    {
     "name": "stdout",
     "output_type": "stream",
     "text": [
      "Error downloading post: /ananyasharmamusic/reel/DFPNTppIvnF/\n",
      "Error downloading post: /ananyasharmamusic/reel/DFKkdd-I2yH/\n",
      "Error downloading post: /ananyasharmamusic/reel/DFITGXBTasn/\n",
      "Error downloading post: /ananyasharmamusic/reel/DFDO2Xzo9JX/\n",
      "Error downloading post: /ananyasharmamusic/p/DE0R4MxT_mH/\n",
      "Error downloading post: /ananyasharmamusic/reel/DEuOM5bTdUg/\n"
     ]
    },
    {
     "name": "stderr",
     "output_type": "stream",
     "text": [
      "100%|██████████| 31/31 [00:00<00:00, 403.26it/s]\n"
     ]
    },
    {
     "name": "stdout",
     "output_type": "stream",
     "text": [
      "Error downloading post: /ananyasharmamusic/reel/DEfelxDTcFm/\n",
      "Error downloading post: /ananyasharmamusic/reel/DD9igf9TgFb/\n",
      "Error downloading post: /ananyasharmamusic/reel/DD6aF_ZTMx2/\n",
      "Error downloading post: /ananyasharmamusic/p/DD2wmqcTyUe/\n",
      "Error downloading post: /ananyasharmamusic/reel/DDj_QVnoGIc/\n",
      "Error downloading post: /ananyasharmamusic/reel/DDZI2k1IyTo/\n",
      "Error downloading post: /ananyasharmamusic/reel/DDEb_a5zAgd/\n",
      "Error downloading post: /ananyasharmamusic/reel/DC63Nf0oWjp/\n",
      "Error downloading post: /ananyasharmamusic/reel/DCt29Y3oqi-/\n",
      "Error downloading post: /ananyasharmamusic/reel/DCZCKGRozuL/\n",
      "Error downloading post: /ananyasharmamusic/reel/DCJMyNdIWmi/\n",
      "Error downloading post: /ananyasharmamusic/reel/DByzPDgNsb8/\n",
      "Error downloading post: /ananyasharmamusic/p/DBwniy4zj45/\n",
      "Error downloading post: /ananyasharmamusic/reel/DBaxpezo4Dr/\n",
      "Error downloading post: /ananyasharmamusic/p/DBG5W3LIgzA/\n",
      "Error downloading post: /ananyasharmamusic/reel/DAqHb7fuTUu/\n",
      "Error downloading post: /ananyasharmamusic/reel/DAdU4iSOp9W/\n",
      "Error downloading post: /ananyasharmamusic/p/DALFNTBIeNm/\n",
      "Error downloading post: /ananyasharmamusic/reel/C_9uYSSohmt/\n",
      "Error downloading post: /ananyasharmamusic/p/C_s5yvxIjHh/\n",
      "Error downloading post: /ananyasharmamusic/reel/C_qUgKEojtC/\n",
      "Error downloading post: /ananyasharmamusic/p/C_iW8D5ITwD/\n",
      "Error downloading post: /ananyasharmamusic/reel/C_YA7rUIwYR/\n",
      "Error downloading post: /ananyasharmamusic/p/C_IA4aiI8MR/\n",
      "Error downloading post: /ananyasharmamusic/reel/C_BIYDWoahq/\n"
     ]
    },
    {
     "name": "stderr",
     "output_type": "stream",
     "text": []
    },
    {
     "name": "stdout",
     "output_type": "stream",
     "text": [
      "Error downloading post: /kennedy_curves_/reel/DF5qecESPEE/\n",
      "Error downloading post: /kennedy_curves_/reel/DF3db_zyha3/\n",
      "Error downloading post: /kennedy_curves_/reel/DF3Rqu0pFPq/\n",
      "Error downloading post: /kennedy_curves_/reel/DF1OmlvyknX/\n",
      "Error downloading post: /kennedy_curves_/reel/DFyBDUfuN7A/\n",
      "Error downloading post: /kennedy_curves_/reel/DFvvZQiyHtW/\n",
      "Error downloading post: /kennedy_curves_/reel/DFtYw-tyyAF/\n",
      "Error downloading post: /kennedy_curves_/reel/DFqlhtlyz8T/\n",
      "Error downloading post: /kennedy_curves_/reel/DFn0nQ8y1D1/\n",
      "Error downloading post: /kennedy_curves_/reel/DFlm5yRy19A/\n",
      "Error downloading post: /kennedy_curves_/reel/DFiu1TlSKW8/\n",
      "Error downloading post: /kennedy_curves_/p/DFgM2qey-ln/\n",
      "Error downloading post: /kennedy_curves_/reel/DFeA1nqS6j-/\n",
      "Error downloading post: /kennedy_curves_/reel/DFaqY6dvlaB/\n",
      "Error downloading post: /kennedy_curves_/reel/DFYNTkgSvyT/\n",
      "Error downloading post: /kennedy_curves_/reel/DFWMxE2SDSk/\n",
      "Error downloading post: /kennedy_curves_/reel/DFTbRB1yvgs/\n",
      "Error downloading post: /kennedy_curves_/reel/DFOHIQOycsn/\n",
      "Error downloading post: /kennedy_curves_/reel/DFLcm0nSf0w/\n",
      "Error downloading post: /kennedy_curves_/p/DFJhDunS7RN/\n",
      "Error downloading post: /kennedy_curves_/reel/DFIxMjKSlRJ/\n",
      "Error downloading post: /kennedy_curves_/reel/DFGuvOuSQgu/\n",
      "Error downloading post: /kennedy_curves_/reel/DFGIv-pyizt/\n",
      "Error downloading post: /kennedy_curves_/reel/DFDehKyPLBi/\n",
      "Error downloading post: /kennedy_curves_/reel/DFA-H8HSTjv/\n",
      "Error downloading post: /kennedy_curves_/p/DE_FMO7ykgQ/\n",
      "Error downloading post: /kennedy_curves_/reel/DE81qi5R6Rh/\n",
      "Error downloading post: /kennedy_curves_/reel/DE5v44Pypb7/\n",
      "Error downloading post: /kennedy_curves_/reel/DE3XhmFySBH/\n",
      "Error downloading post: /kennedy_curves_/reel/DExqXzUytjZ/\n",
      "Error downloading post: /kennedy_curves_/reel/DEvG_EtSlr5/\n",
      "Error downloading post: /kennedy_curves_/reel/DEsXtcxPWT_/\n"
     ]
    },
    {
     "name": "stderr",
     "output_type": "stream",
     "text": []
    },
    {
     "name": "stdout",
     "output_type": "stream",
     "text": [
      "Error downloading post: /kennedy_curves_/reel/DEqGMS2S8jY/\n",
      "Error downloading post: /kennedy_curves_/reel/DEnz1gjyR4u/\n",
      "Error downloading post: /kennedy_curves_/reel/DEkyP6oSOwO/\n",
      "Error downloading post: /kennedy_curves_/reel/DEiC_lUPaxy/\n",
      "Error downloading post: /kennedy_curves_/reel/DEgRpPlyTCY/\n",
      "Error downloading post: /kennedy_curves_/reel/DEfs-GZSb-3/\n",
      "Error downloading post: /kennedy_curves_/reel/DEdRo-9ypQH/\n",
      "Error downloading post: /kennedy_curves_/reel/DEazCBoyDvo/\n",
      "Error downloading post: /kennedy_curves_/reel/DEZE6fjx1O4/\n"
     ]
    },
    {
     "name": "stderr",
     "output_type": "stream",
     "text": [
      "100%|██████████| 44/44 [00:00<00:00, 328.01it/s]\n",
      " 52%|█████▏    | 13/25 [02:54<01:25,  7.09s/it]"
     ]
    },
    {
     "name": "stdout",
     "output_type": "stream",
     "text": [
      "Error downloading post: /kennedy_curves_/reel/DEWAt-QyDgA/\n",
      "Error downloading post: /kennedy_curves_/reel/DENlGRwyEkI/\n",
      "Error downloading post: /kennedy_curves_/reel/DEGVTzcyRdC/\n"
     ]
    },
    {
     "name": "stderr",
     "output_type": "stream",
     "text": []
    },
    {
     "name": "stdout",
     "output_type": "stream",
     "text": [
      "Error downloading post: /lessiesjournal/p/DFdrwlnNM1G/\n",
      "Error downloading post: /lessiesjournal/reel/DFYUKOvt2U9/\n",
      "Error downloading post: /lessiesjournal/p/DFV1a3cNGqc/\n",
      "Error downloading post: /lessiesjournal/reel/DFQPLYZtnxU/\n",
      "Error downloading post: /lessiesjournal/p/DFI_opMtFV9/\n",
      "Error downloading post: /lessiesjournal/reel/DFGUdskNOh1/\n",
      "Error downloading post: /lessiesjournal/reel/DFDx8ZcNcI3/\n",
      "Error downloading post: /lessiesjournal/reel/DFBPqIztH-A/\n",
      "Error downloading post: /lessiesjournal/p/DE8KIYrtn2Q/\n",
      "Error downloading post: /lessiesjournal/reel/DE28EvkNlrZ/\n",
      "Error downloading post: /lessiesjournal/reel/DE0V8IWtoLp/\n",
      "Error downloading post: /lessiesjournal/reel/DEx-FpyNl2n/\n"
     ]
    },
    {
     "name": "stderr",
     "output_type": "stream",
     "text": []
    },
    {
     "name": "stdout",
     "output_type": "stream",
     "text": [
      "Error downloading post: /lessiesjournal/reel/DExuSJntPWJ/\n",
      "Error downloading post: /lessiesjournal/reel/DEvUGTBtlme/\n",
      "Error downloading post: /lessiesjournal/reel/DEvEKBeN_0h/\n",
      "Error downloading post: /lessiesjournal/reel/DEspX3gNXk1/\n",
      "Error downloading post: /lessiesjournal/p/DEqB80XtzFS/\n",
      "Error downloading post: /lessiesjournal/reel/DEnapw5t-H5/\n",
      "Error downloading post: /lessiesjournal/reel/DEk4EnWN8AU/\n",
      "Error downloading post: /lessiesjournal/reel/DEiPP9aNFVb/\n",
      "Error downloading post: /lessiesjournal/reel/DEfvYDiNoIP/\n",
      "Error downloading post: /lessiesjournal/reel/DEfZOTXNQVh/\n",
      "Error downloading post: /lessiesjournal/reel/DEdQn62Ny5i/\n",
      "Error downloading post: /lessiesjournal/reel/DEc7QsnN4wJ/\n",
      "Error downloading post: /lessiesjournal/reel/DEakXzItRk5/\n",
      "Error downloading post: /lessiesjournal/reel/DEYGyxktjJC/\n",
      "Error downloading post: /lessiesjournal/reel/DEXoUALN6E_/\n",
      "Error downloading post: /lessiesjournal/p/DEVXt0UN2rS/\n",
      "Error downloading post: /lessiesjournal/reel/DES01a9NfKC/\n",
      "Error downloading post: /lessiesjournal/p/DEQEpu-tGh_/\n",
      "Error downloading post: /lessiesjournal/reel/DENV-SQtwGm/\n",
      "Error downloading post: /lessiesjournal/p/DEGDMOTtx8_/\n",
      "Error downloading post: /lessiesjournal/reel/DEA7sorNdL6/\n",
      "Error downloading post: /lessiesjournal/p/DD5O9MmNKjk/\n",
      "Error downloading post: /lessiesjournal/reel/DDz_EWtNjrX/\n",
      "Error downloading post: /lessiesjournal/reel/DDu57vDNKp_/\n",
      "Error downloading post: /lessiesjournal/reel/DDprXCKN1Ex/\n",
      "Error downloading post: /lessiesjournal/reel/DDkJ3jnNT5Z/\n",
      "Error downloading post: /lessiesjournal/reel/DDfWSf2te4n/\n",
      "Error downloading post: /lessiesjournal/reel/DDaRudSN7AP/\n",
      "Error downloading post: /lessiesjournal/reel/DDVBk9NNSRd/\n"
     ]
    },
    {
     "name": "stderr",
     "output_type": "stream",
     "text": [
      "100%|██████████| 45/45 [00:00<00:00, 272.28it/s]\n",
      " 56%|█████▌    | 14/25 [02:54<01:03,  5.78s/it]"
     ]
    },
    {
     "name": "stdout",
     "output_type": "stream",
     "text": [
      "Error downloading post: /lessiesjournal/reel/DDSNhs6Nvq9/\n",
      "Error downloading post: /lessiesjournal/p/DDNWx-mNJ2q/\n",
      "Error downloading post: /lessiesjournal/reel/DDK2ntItoWh/\n",
      "Error downloading post: /lessiesjournal/reel/DDIFcmdtUzZ/\n"
     ]
    },
    {
     "name": "stderr",
     "output_type": "stream",
     "text": []
    },
    {
     "name": "stdout",
     "output_type": "stream",
     "text": [
      "Error downloading post: /anna.simone.s/reel/DGQsD1gi7s2/\n",
      "Error downloading post: /anna.simone.s/reel/DE2t90atgNd/\n",
      "Error downloading post: /anna.simone.s/p/DF5TK_0CUsC/\n",
      "Error downloading post: /anna.simone.s/reel/DFQmd5et3qk/\n",
      "Error downloading post: /anna.simone.s/p/DGKxR4hIYKG/\n",
      "Error downloading post: /anna.simone.s/p/DF0LzHkti0N/\n",
      "Error downloading post: /anna.simone.s/reel/DGJdpqviZsO/\n",
      "Error downloading post: /anna.simone.s/p/DGF9zb_I37_/\n",
      "Error downloading post: /anna.simone.s/reel/DFaSJyHtaW3/\n",
      "Error downloading post: /anna.simone.s/reel/DGDsCERi_Uj/\n",
      "Error downloading post: /anna.simone.s/reel/DGDVv6HI_lX/\n",
      "Error downloading post: /anna.simone.s/reel/DFaTQygtY8z/\n",
      "Error downloading post: /anna.simone.s/reel/DF-os85CzH_/\n",
      "Error downloading post: /anna.simone.s/reel/DF2Uh8Jtn8b/\n",
      "Error downloading post: /anna.simone.s/reel/DF5RPrjo2du/\n",
      "Error downloading post: /anna.simone.s/reel/DFyXF0CNsih/\n",
      "Error downloading post: /anna.simone.s/reel/DF224q9NAi5/\n"
     ]
    },
    {
     "name": "stderr",
     "output_type": "stream",
     "text": [
      "100%|██████████| 43/43 [00:00<00:00, 384.41it/s]\n",
      " 60%|██████    | 15/25 [02:54<00:45,  4.58s/it]"
     ]
    },
    {
     "name": "stdout",
     "output_type": "stream",
     "text": [
      "Error downloading post: /anna.simone.s/p/DF0LzkjCxH3/\n",
      "Error downloading post: /anna.simone.s/reel/DF073jCtSkA/\n",
      "Error downloading post: /anna.simone.s/reel/DD9_PosvByN/\n",
      "Error downloading post: /anna.simone.s/reel/DFsnutjCfoE/\n",
      "Error downloading post: /anna.simone.s/reel/DF3BQavtDly/\n",
      "Error downloading post: /anna.simone.s/reel/DFnvSH8N0WY/\n",
      "Error downloading post: /anna.simone.s/reel/DFdXgI5NDXw/\n",
      "Error downloading post: /anna.simone.s/reel/DFk6d0btCR9/\n",
      "Error downloading post: /anna.simone.s/reel/DFiMjg1NqkQ/\n",
      "Error downloading post: /anna.simone.s/p/DFdE8TcNMtj/\n",
      "Error downloading post: /anna.simone.s/reel/DFdXCAyN4Uh/\n",
      "Error downloading post: /anna.simone.s/reel/DFZ8ZUmi17g/\n",
      "Error downloading post: /anna.simone.s/reel/DFXXAh8iiCZ/\n",
      "Error downloading post: /anna.simone.s/reel/DFU4iIciYDW/\n",
      "Error downloading post: /anna.simone.s/reel/DFU-SuDNKm0/\n",
      "Error downloading post: /anna.simone.s/reel/DFU6R8_CMQE/\n",
      "Error downloading post: /anna.simone.s/reel/DFQgJlKtxcA/\n",
      "Error downloading post: /anna.simone.s/reel/DEchY0lNKBO/\n",
      "Error downloading post: /anna.simone.s/reel/DFDgsI4NSC9/\n",
      "Error downloading post: /anna.simone.s/reel/DFQkHGpNCas/\n",
      "Error downloading post: /anna.simone.s/reel/DFDW-1Et2mL/\n",
      "Error downloading post: /anna.simone.s/p/DFA277-tvBD/\n",
      "Error downloading post: /anna.simone.s/reel/DFAuLqVtB18/\n",
      "Error downloading post: /anna.simone.s/reel/DFP12katKn2/\n",
      "Error downloading post: /anna.simone.s/reel/DDZ1T2it26v/\n",
      "Error downloading post: /anna.simone.s/reel/DE10vtdNMLh/\n"
     ]
    },
    {
     "name": "stderr",
     "output_type": "stream",
     "text": []
    },
    {
     "name": "stdout",
     "output_type": "stream",
     "text": [
      "Error downloading post: /mohamed_baidani/reel/DFgggQaOmWr/\n",
      "Error downloading post: /mohamed_baidani/reel/DFeJxVPuz9K/\n",
      "Error downloading post: /mohamed_baidani/reel/DFa-MweS7OU/\n",
      "Error downloading post: /mohamed_baidani/reel/DFYWKIoyAX8/\n",
      "Error downloading post: /mohamed_baidani/reel/DFVvR_4ypwL/\n",
      "Error downloading post: /mohamed_baidani/reel/DFRpInnu693/\n",
      "Error downloading post: /mohamed_baidani/reel/DFLGZkJOiVj/\n",
      "Error downloading post: /mohamed_baidani/reel/DFJAWblSc1J/\n",
      "Error downloading post: /mohamed_baidani/reel/DFGjnkmysO9/\n",
      "Error downloading post: /mohamed_baidani/reel/DFEYe04uAyR/\n",
      "Error downloading post: /mohamed_baidani/reel/DFBQNZjyOAV/\n",
      "Error downloading post: /mohamed_baidani/reel/DE-goM-uLW_/\n",
      "Error downloading post: /mohamed_baidani/reel/DE8vss8Obvm/\n",
      "Error downloading post: /mohamed_baidani/reel/DE8XHZ-unqS/\n",
      "Error downloading post: /mohamed_baidani/reel/DEv6UhTOmPa/\n",
      "Error downloading post: /mohamed_baidani/reel/DEvVTySyyfJ/\n",
      "Error downloading post: /mohamed_baidani/reel/DEvEMDeOdAm/\n",
      "Error downloading post: /mohamed_baidani/reel/DEskKTfuPkD/\n",
      "Error downloading post: /mohamed_baidani/reel/DEp-lZ4yoec/\n",
      "Error downloading post: /mohamed_baidani/reel/DEpiOq1OWdF/\n",
      "Error downloading post: /mohamed_baidani/reel/DEn5l2BOT3W/\n",
      "Error downloading post: /mohamed_baidani/reel/DEngmetSNJH/\n",
      "Error downloading post: /mohamed_baidani/reel/DEdTyHhyV3r/\n",
      "Error downloading post: /mohamed_baidani/reel/DEdGWe8SJMa/\n"
     ]
    },
    {
     "name": "stderr",
     "output_type": "stream",
     "text": []
    },
    {
     "name": "stdout",
     "output_type": "stream",
     "text": [
      "Error downloading post: /mohamed_baidani/reel/DEYRcuCu4Qt/\n",
      "Error downloading post: /mohamed_baidani/reel/DEVbGlFSy2H/\n",
      "Error downloading post: /mohamed_baidani/reel/DETBuJKyUkw/\n",
      "Error downloading post: /mohamed_baidani/reel/DES2EIASrEP/\n",
      "Error downloading post: /mohamed_baidani/reel/DEQd6L6Sj93/\n",
      "Error downloading post: /mohamed_baidani/reel/DEIpnqbSThJ/\n",
      "Error downloading post: /mohamed_baidani/reel/DEF1bGuuFdz/\n",
      "Error downloading post: /mohamed_baidani/reel/DEDFcHVOsIl/\n",
      "Error downloading post: /mohamed_baidani/reel/DEAZUDsu0wp/\n",
      "Error downloading post: /mohamed_baidani/reel/DD-wzbXudgk/\n",
      "Error downloading post: /mohamed_baidani/reel/DD296YGOwsj/\n",
      "Error downloading post: /mohamed_baidani/reel/DDu-N2Wyc4L/\n",
      "Error downloading post: /mohamed_baidani/reel/DDP6q-uS4iX/\n",
      "Error downloading post: /mohamed_baidani/reel/DDAtNdgy6kG/\n",
      "Error downloading post: /mohamed_baidani/reel/DCZ1kDtyLwc/\n",
      "Error downloading post: /mohamed_baidani/reel/DCPSzGPxZN-/\n",
      "Error downloading post: /mohamed_baidani/reel/DB6mGctxQ21/\n"
     ]
    },
    {
     "name": "stderr",
     "output_type": "stream",
     "text": [
      "100%|██████████| 42/42 [00:00<00:00, 312.51it/s]\n",
      " 64%|██████▍   | 16/25 [02:54<00:31,  3.55s/it]"
     ]
    },
    {
     "name": "stdout",
     "output_type": "stream",
     "text": [
      "Error downloading post: /mohamed_baidani/reel/DAg2sm1xY3U/\n"
     ]
    },
    {
     "name": "stderr",
     "output_type": "stream",
     "text": []
    },
    {
     "name": "stdout",
     "output_type": "stream",
     "text": [
      "Error downloading post: /amirelates/reel/DF_mFBcxlhN/\n",
      "Error downloading post: /amirelates/reel/DF-kcN6xmsF/\n",
      "Error downloading post: /amirelates/reel/DF-WbTexXuQ/\n",
      "Error downloading post: /amirelates/reel/DF9M5CqMh1C/\n",
      "Error downloading post: /amirelates/reel/DF8LxOgR9cF/\n",
      "Error downloading post: /amirelates/reel/DF7scczRErj/\n",
      "Error downloading post: /amirelates/reel/DF625xlMJSI/\n",
      "Error downloading post: /amirelates/reel/DF6YNLax0bK/\n",
      "Error downloading post: /amirelates/reel/DF6FhQ3RfLI/\n",
      "Error downloading post: /amirelates/reel/DF6C_BCRG7h/\n",
      "Error downloading post: /amirelates/reel/DF5nl6QxYLC/\n",
      "Error downloading post: /amirelates/reel/DF5hkewR680/\n",
      "Error downloading post: /amirelates/reel/DF5a2jdR78n/\n",
      "Error downloading post: /amirelates/reel/DF39TQ0RZwi/\n",
      "Error downloading post: /amirelates/reel/DF32xG4RZxT/\n",
      "Error downloading post: /amirelates/reel/DF31jsFR70f/\n",
      "Error downloading post: /amirelates/reel/DF3v5KkxTds/\n",
      "Error downloading post: /amirelates/reel/DF2l3VwREqK/\n",
      "Error downloading post: /amirelates/reel/DF1uLt7sgG1/\n",
      "Error downloading post: /amirelates/reel/DF1MjbExD3I/\n",
      "Error downloading post: /amirelates/reel/DF1L_gYxz6O/\n",
      "Error downloading post: /amirelates/reel/DF1CNYXxcVC/\n",
      "Error downloading post: /amirelates/reel/DF0omVaRmLF/\n",
      "Error downloading post: /amirelates/reel/DF0g1C0xr3m/\n",
      "Error downloading post: /amirelates/reel/DF0FmIbxceK/\n",
      "Error downloading post: /amirelates/reel/DFy9hcLsXju/\n",
      "Error downloading post: /amirelates/reel/DFyuk9eRp38/\n",
      "Error downloading post: /amirelates/reel/DFyVvWkR-4H/\n",
      "Error downloading post: /amirelates/reel/DFvuN8pxFuO/\n",
      "Error downloading post: /amirelates/reel/DFu2azcRoX2/\n",
      "Error downloading post: /amirelates/reel/DFtIC_zRtwp/\n",
      "Error downloading post: /amirelates/reel/DFqY4XORg14/\n"
     ]
    },
    {
     "name": "stderr",
     "output_type": "stream",
     "text": []
    },
    {
     "name": "stdout",
     "output_type": "stream",
     "text": [
      "Error downloading post: /amirelates/reel/DFpps1PRRo2/\n",
      "Error downloading post: /amirelates/reel/DFppmQYRLI9/\n",
      "Error downloading post: /amirelates/reel/DFoUINdRdkQ/\n",
      "Error downloading post: /amirelates/reel/DFnP0KLRJg8/\n",
      "Error downloading post: /amirelates/reel/DFl3sBiRlwq/\n",
      "Error downloading post: /amirelates/reel/DFlgTI6xL96/\n",
      "Error downloading post: /amirelates/reel/DFlDXgLRdaF/\n",
      "Error downloading post: /amirelates/reel/DFkhVK-xkeE/\n",
      "Error downloading post: /amirelates/reel/DFi-PhNRdPt/\n",
      "Error downloading post: /amirelates/reel/DFigCEwxR3Q/\n",
      "Error downloading post: /amirelates/reel/DFiJrQMR2Vv/\n"
     ]
    },
    {
     "name": "stderr",
     "output_type": "stream",
     "text": [
      "100%|██████████| 45/45 [00:00<00:00, 410.69it/s]\n",
      " 68%|██████▊   | 17/25 [02:54<00:21,  2.69s/it]"
     ]
    },
    {
     "name": "stdout",
     "output_type": "stream",
     "text": [
      "Error downloading post: /amirelates/reel/DFfu2QhRvph/\n",
      "Error downloading post: /amirelates/reel/DFdfMEJRYea/\n"
     ]
    },
    {
     "name": "stderr",
     "output_type": "stream",
     "text": []
    },
    {
     "name": "stdout",
     "output_type": "stream",
     "text": [
      "Error downloading post: /ambardriscoll/p/DEAdbqlMVmt/\n",
      "Error downloading post: /ambardriscoll/reel/DD95skGs1Sx/\n",
      "Error downloading post: /ambardriscoll/p/DD6sMGoMkQc/\n",
      "Error downloading post: /ambardriscoll/reel/DD44Y-JMCp0/\n",
      "Error downloading post: /ambardriscoll/reel/DD2ijD3sutW/\n",
      "Error downloading post: /ambardriscoll/reel/DD1xqVmM9TV/\n",
      "Error downloading post: /ambardriscoll/reel/DDzzgtgsfdX/\n",
      "Error downloading post: /ambardriscoll/reel/DDxZE1esDrX/\n",
      "Error downloading post: /ambardriscoll/reel/DDxFgc5sPeS/\n",
      "Error downloading post: /ambardriscoll/reel/DDtvR-mMXpx/\n",
      "Error downloading post: /ambardriscoll/reel/DDnGdA5sOwO/\n",
      "Error downloading post: /ambardriscoll/reel/DDkiPu2MG05/\n",
      "Error downloading post: /ambardriscoll/reel/DDcHPmDszeg/\n",
      "Error downloading post: /ambardriscoll/reel/DDXbXEGsDZc/\n",
      "Error downloading post: /ambardriscoll/reel/DDSNPKqOgQ7/\n",
      "Error downloading post: /ambardriscoll/reel/DDNVimxycAb/\n",
      "Error downloading post: /ambardriscoll/reel/DDK3DAOSNNo/\n",
      "Error downloading post: /ambardriscoll/reel/DDH4ioxOW42/\n"
     ]
    },
    {
     "name": "stderr",
     "output_type": "stream",
     "text": [
      "100%|██████████| 45/45 [00:00<00:00, 306.31it/s]\n",
      " 72%|███████▏  | 18/25 [02:54<00:14,  2.02s/it]"
     ]
    },
    {
     "name": "stdout",
     "output_type": "stream",
     "text": [
      "Error downloading post: /ambardriscoll/reel/DDFXJb8O2Ir/\n",
      "Error downloading post: /ambardriscoll/reel/DDDGQuTy-MX/\n",
      "Error downloading post: /ambardriscoll/p/DC9sjeSMsOr/\n",
      "Error downloading post: /ambardriscoll/reel/DC89572MrsU/\n",
      "Error downloading post: /ambardriscoll/reel/DC4LGKoMD_i/\n",
      "Error downloading post: /ambardriscoll/reel/DC1gjwOsrRy/\n",
      "Error downloading post: /ambardriscoll/reel/DCuTm9vMRLJ/\n",
      "Error downloading post: /ambardriscoll/p/DCq4rEXMtXC/\n",
      "Error downloading post: /ambardriscoll/reel/DCoh_k5shCy/\n",
      "Error downloading post: /ambardriscoll/reel/DCmb1gBsyHo/\n",
      "Error downloading post: /ambardriscoll/reel/DCjFYL3s6h0/\n",
      "Error downloading post: /ambardriscoll/reel/DChOp8ssyPe/\n",
      "Error downloading post: /ambardriscoll/p/DCbl06HsFvF/\n",
      "Error downloading post: /ambardriscoll/reel/DCWZ971sfdb/\n",
      "Error downloading post: /ambardriscoll/reel/DCSKoDTsw_s/\n",
      "Error downloading post: /ambardriscoll/reel/DCPjIdEMui3/\n",
      "Error downloading post: /ambardriscoll/reel/DCEp-hYMrHC/\n",
      "Error downloading post: /ambardriscoll/reel/DB_zMifMWXQ/\n",
      "Error downloading post: /ambardriscoll/p/DB8YAFIMOmI/\n",
      "Error downloading post: /ambardriscoll/reel/DByQ5Insa0F/\n",
      "Error downloading post: /ambardriscoll/reel/DBwjDUcsj2k/\n",
      "Error downloading post: /ambardriscoll/p/DBtrrt8MOlj/\n",
      "Error downloading post: /ambardriscoll/reel/DBoypazspBT/\n",
      "Error downloading post: /ambardriscoll/reel/DBmECDfMxTE/\n",
      "Error downloading post: /ambardriscoll/reel/DBg11M6Mjp0/\n",
      "Error downloading post: /ambardriscoll/reel/DBbeMKwMKln/\n",
      "Error downloading post: /ambardriscoll/p/DBYPO_Us22k/\n"
     ]
    },
    {
     "name": "stderr",
     "output_type": "stream",
     "text": []
    },
    {
     "name": "stdout",
     "output_type": "stream",
     "text": [
      "Error downloading post: /mayandnate/p/DD4sWhQSNgh/\n",
      "Error downloading post: /mayandnate/p/DD0HbpmMZx-/\n",
      "Error downloading post: /mayandnate/p/DDkHf4Rymis/\n",
      "Error downloading post: /mayandnate/p/DDNFXJ1yTCh/\n",
      "Error downloading post: /mayandnate/p/DCOuG_6yI7w/\n",
      "Error downloading post: /mayandnate/p/DBv4_19T0OD/\n",
      "Error downloading post: /mayandnate/p/C_5yc5mSJ-C/\n",
      "Error downloading post: /mayandnate/p/C_gAHX5ysD4/\n",
      "Error downloading post: /mayandnate/p/C-xnBbEN9RX/\n",
      "Error downloading post: /mayandnate/p/C-supHrSYVW/\n",
      "Error downloading post: /mayandnate/p/C-m6YmfNO5v/\n",
      "Error downloading post: /mayandnate/p/C-YG7ZDSj8j/\n",
      "Error downloading post: /mayandnate/p/C9VRicZSGp0/\n",
      "Error downloading post: /mayandnate/p/C9P-YnLMI0t/\n",
      "Error downloading post: /mayandnate/p/C82PZUay_QV/\n",
      "Error downloading post: /mayandnate/p/C790a3YtnpH/\n",
      "Error downloading post: /mayandnate/p/C7t1UuLSeyf/\n",
      "Error downloading post: /mayandnate/p/C7mb2uayntl/\n",
      "Error downloading post: /mayandnate/p/C6eQTiLSI2t/\n",
      "Error downloading post: /mayandnate/p/C6Ea0Slyb6b/\n",
      "Error downloading post: /mayandnate/p/C5Rggt0yjLW/\n",
      "Error downloading post: /mayandnate/p/C5LlGYuSTEm/\n"
     ]
    },
    {
     "name": "stderr",
     "output_type": "stream",
     "text": [
      "100%|██████████| 23/23 [00:00<00:00, 463.49it/s]\n"
     ]
    },
    {
     "name": "stdout",
     "output_type": "stream",
     "text": [
      "Error downloading post: /mayandnate/p/C5B88XRy-Sh/\n"
     ]
    },
    {
     "name": "stderr",
     "output_type": "stream",
     "text": []
    },
    {
     "name": "stdout",
     "output_type": "stream",
     "text": [
      "Error downloading post: /luluscorneroftheworld/p/DBbxenfN8Za/\n",
      "Error downloading post: /luluscorneroftheworld/reel/DBWsuOpt8Fu/\n",
      "Error downloading post: /luluscorneroftheworld/reel/DA8_V5MNaPq/\n",
      "Error downloading post: /luluscorneroftheworld/reel/DAtaPOyt_Vh/\n",
      "Error downloading post: /luluscorneroftheworld/p/DAoLKmdNGvy/\n",
      "Error downloading post: /luluscorneroftheworld/p/DAlwydttoAf/\n",
      "Error downloading post: /luluscorneroftheworld/reel/DAYwh-Yt94j/\n",
      "Error downloading post: /luluscorneroftheworld/reel/C__Oi4sNB7L/\n",
      "Error downloading post: /luluscorneroftheworld/p/C_lbDqRNYUy/\n",
      "Error downloading post: /luluscorneroftheworld/p/C_bF24ZPdGN/\n",
      "Error downloading post: /luluscorneroftheworld/p/C_Guz9UPNWz/\n",
      "Error downloading post: /luluscorneroftheworld/p/C-yNv5cv9cH/\n",
      "Error downloading post: /luluscorneroftheworld/p/C-S1uhhu3K7/\n",
      "Error downloading post: /luluscorneroftheworld/reel/C-QcGijPwiS/\n",
      "Error downloading post: /luluscorneroftheworld/p/C-GPVmDvqPm/\n",
      "Error downloading post: /luluscorneroftheworld/p/C9-eysjvR3U/\n",
      "Error downloading post: /luluscorneroftheworld/reel/C9285GGvNN4/\n",
      "Error downloading post: /luluscorneroftheworld/p/C9u9ZVHPbQk/\n",
      "Error downloading post: /luluscorneroftheworld/p/C9poyrqOWT7/\n",
      "Error downloading post: /luluscorneroftheworld/reel/C9VRWQavQOF/\n",
      "Error downloading post: /luluscorneroftheworld/p/C9N98u8Pn-u/\n",
      "Error downloading post: /luluscorneroftheworld/reel/C9K54tFPu1P/\n",
      "Error downloading post: /luluscorneroftheworld/p/C9JF3O7NRA6/\n",
      "Error downloading post: /luluscorneroftheworld/reel/C8-ParSvvNK/\n",
      "Error downloading post: /luluscorneroftheworld/p/C8nCvEWvUvM/\n",
      "Error downloading post: /luluscorneroftheworld/p/C8DEZrTvCRI/\n",
      "Error downloading post: /luluscorneroftheworld/p/C7kverHt5G7/\n",
      "Error downloading post: /luluscorneroftheworld/p/C7khnEZvgRg/\n",
      "Error downloading post: /luluscorneroftheworld/p/C7fRIYxvUJL/\n",
      "Error downloading post: /luluscorneroftheworld/p/C7eoe3KulCq/\n",
      "Error downloading post: /luluscorneroftheworld/p/C7cWIrKvcjn/\n",
      "Error downloading post: /luluscorneroftheworld/p/C7aahRit3xc/\n",
      "Error downloading post: /luluscorneroftheworld/reel/C67EbOavr5I/\n",
      "Error downloading post: /luluscorneroftheworld/p/C6paiBlrl6F/\n",
      "Error downloading post: /luluscorneroftheworld/p/C6jUVtVrpG3/\n",
      "Error downloading post: /luluscorneroftheworld/p/C5hLhWSvx_Y/\n",
      "Error downloading post: /luluscorneroftheworld/p/C5g6hrgPmQi/\n",
      "Error downloading post: /luluscorneroftheworld/p/C5byhFhP8v7/\n",
      "Error downloading post: /luluscorneroftheworld/p/C5WuJQPPkcz/\n",
      "Error downloading post: /luluscorneroftheworld/p/C5RGpnZru_d/\n",
      "Error downloading post: /luluscorneroftheworld/p/C4wDYwDPCyL/\n"
     ]
    },
    {
     "name": "stderr",
     "output_type": "stream",
     "text": [
      "100%|██████████| 44/44 [00:00<00:00, 485.22it/s]\n",
      " 80%|████████  | 20/25 [02:54<00:05,  1.19s/it]"
     ]
    },
    {
     "name": "stdout",
     "output_type": "stream",
     "text": [
      "Error downloading post: /luluscorneroftheworld/p/C4oui-DL-HT/\n",
      "Error downloading post: /luluscorneroftheworld/reel/C4oPvDnvn0a/\n",
      "Error downloading post: /luluscorneroftheworld/p/C4VrQY8LOxK/\n"
     ]
    },
    {
     "name": "stderr",
     "output_type": "stream",
     "text": []
    },
    {
     "name": "stdout",
     "output_type": "stream",
     "text": [
      "Error downloading post: /alwaysalittleextra/p/DECpQnGyP94/\n",
      "Error downloading post: /alwaysalittleextra/reel/DD64nDHSsb8/\n",
      "Error downloading post: /alwaysalittleextra/p/DD3ns3HSSgn/\n",
      "Error downloading post: /alwaysalittleextra/reel/DDl2n1wyKuj/\n",
      "Error downloading post: /alwaysalittleextra/p/DDlk8PuSgZh/\n",
      "Error downloading post: /alwaysalittleextra/reel/DDjEcA-Si2D/\n",
      "Error downloading post: /alwaysalittleextra/reel/DDgXfhyScUS/\n",
      "Error downloading post: /alwaysalittleextra/reel/DDd3fgFSBMY/\n",
      "Error downloading post: /alwaysalittleextra/reel/DDcJO86SG5I/\n",
      "Error downloading post: /alwaysalittleextra/reel/DDYmhrGSy6O/\n",
      "Error downloading post: /alwaysalittleextra/reel/DDTfcyHSBcd/\n",
      "Error downloading post: /alwaysalittleextra/reel/DDRqNKLS_pW/\n",
      "Error downloading post: /alwaysalittleextra/reel/DDMihy2Sd8l/\n",
      "Error downloading post: /alwaysalittleextra/reel/DDGluCIyko8/\n",
      "Error downloading post: /alwaysalittleextra/reel/DDBfNsXyE2Q/\n",
      "Error downloading post: /alwaysalittleextra/p/DCy5P1bSb_W/\n",
      "Error downloading post: /alwaysalittleextra/reel/DCs1mODSvEF/\n",
      "Error downloading post: /alwaysalittleextra/p/DCqb5N9yisD/\n",
      "Error downloading post: /alwaysalittleextra/reel/DCnzZNpSTyw/\n",
      "Error downloading post: /alwaysalittleextra/reel/DClMYw7y-PB/\n",
      "Error downloading post: /alwaysalittleextra/reel/DCjYuuyyBaY/\n",
      "Error downloading post: /alwaysalittleextra/reel/DCgLHlWyXLQ/\n",
      "Error downloading post: /alwaysalittleextra/reel/DCdcF6qytkI/\n",
      "Error downloading post: /alwaysalittleextra/p/DCY_1RKyL70/\n",
      "Error downloading post: /alwaysalittleextra/p/DCWlbOMSjZ6/\n",
      "Error downloading post: /alwaysalittleextra/p/DCOiCZpS9nC/\n",
      "Error downloading post: /alwaysalittleextra/reel/DCMYnpISbWB/\n",
      "Error downloading post: /alwaysalittleextra/p/DCLhTH4yXTK/\n",
      "Error downloading post: /alwaysalittleextra/p/DCI3beGSGRE/\n",
      "Error downloading post: /alwaysalittleextra/p/DBzIP3MS3fd/\n",
      "Error downloading post: /alwaysalittleextra/reel/DBv-1wYSGVb/\n"
     ]
    },
    {
     "name": "stderr",
     "output_type": "stream",
     "text": []
    },
    {
     "name": "stdout",
     "output_type": "stream",
     "text": [
      "Error downloading post: /alwaysalittleextra/reel/DBvfHtXSNaG/\n",
      "Error downloading post: /alwaysalittleextra/p/DBvK0ObSXt3/\n",
      "Error downloading post: /alwaysalittleextra/reel/DBtbnN_yvfH/\n",
      "Error downloading post: /alwaysalittleextra/reel/DBqZGbDS6dZ/\n",
      "Error downloading post: /alwaysalittleextra/reel/DBgfJDdS87F/\n",
      "Error downloading post: /alwaysalittleextra/reel/DBbCD7gySRs/\n",
      "Error downloading post: /alwaysalittleextra/reel/DBYXU7WpqnI/\n",
      "Error downloading post: /alwaysalittleextra/p/DBVuRXqpqFq/\n",
      "Error downloading post: /alwaysalittleextra/reel/DBOIMz3JX7z/\n",
      "Error downloading post: /alwaysalittleextra/p/DBEjwF-TDlh/\n"
     ]
    },
    {
     "name": "stderr",
     "output_type": "stream",
     "text": [
      "100%|██████████| 43/43 [00:00<00:00, 392.34it/s]\n",
      " 84%|████████▍ | 21/25 [02:55<00:03,  1.07it/s]"
     ]
    },
    {
     "name": "stdout",
     "output_type": "stream",
     "text": [
      "Error downloading post: /alwaysalittleextra/p/DBCD-4eTM2U/\n",
      "Error downloading post: /alwaysalittleextra/reel/DA51TKvxHUx/\n"
     ]
    },
    {
     "name": "stderr",
     "output_type": "stream",
     "text": []
    },
    {
     "name": "stdout",
     "output_type": "stream",
     "text": [
      "Error downloading post: /bishamberdas/reel/C8OdfvEsrvD/\n",
      "Error downloading post: /bishamberdas/reel/C6Nu_BGs1ge/\n",
      "Error downloading post: /bishamberdas/reel/C5ku-nPMmT1/\n",
      "Error downloading post: /bishamberdas/reel/C5arbt6s75F/\n",
      "Error downloading post: /bishamberdas/p/C5N0w0OsU0H/\n",
      "Error downloading post: /bishamberdas/reel/C4Hl0LNJuYh/\n",
      "Error downloading post: /bishamberdas/reel/C29k0xFMWqI/\n",
      "Error downloading post: /bishamberdas/reel/C2KIrGpMwZ4/\n",
      "Error downloading post: /bishamberdas/reel/C1rFIjQM7PH/\n",
      "Error downloading post: /bishamberdas/p/C1j7g4Ws9xX/\n",
      "Error downloading post: /bishamberdas/reel/C1WbT29MKoA/\n",
      "Error downloading post: /bishamberdas/reel/C0lrUK1Mfyb/\n",
      "Error downloading post: /bishamberdas/reel/C0jG_TysB08/\n",
      "Error downloading post: /bishamberdas/p/C0cnCzkMnre/\n",
      "Error downloading post: /bishamberdas/reel/CzYZzsBMTa5/\n",
      "Error downloading post: /bishamberdas/reel/Cxp6Q6nMavX/\n",
      "Error downloading post: /bishamberdas/reel/CxXbbEWMso1/\n",
      "Error downloading post: /bishamberdas/reel/CwSvz6lsJ6c/\n",
      "Error downloading post: /bishamberdas/reel/CvxGi_Xunqt/\n",
      "Error downloading post: /bishamberdas/p/CvkFdUnMNMj/\n",
      "Error downloading post: /bishamberdas/reel/CvUvLRnNEyU/\n",
      "Error downloading post: /bishamberdas/reel/CvHet6ptBia/\n",
      "Error downloading post: /bishamberdas/reel/CuO6V9mOViw/\n",
      "Error downloading post: /bishamberdas/reel/CtWn-giNHtk/\n",
      "Error downloading post: /bishamberdas/reel/CtLrwsLp9qy/\n"
     ]
    },
    {
     "name": "stderr",
     "output_type": "stream",
     "text": [
      "100%|██████████| 42/42 [00:00<00:00, 297.35it/s]\n",
      " 88%|████████▊ | 22/25 [02:55<00:02,  1.36it/s]"
     ]
    },
    {
     "name": "stdout",
     "output_type": "stream",
     "text": [
      "Error downloading post: /bishamberdas/p/CsjIv2fMUSZ/\n",
      "Error downloading post: /bishamberdas/reel/CqktYR7sIxr/\n",
      "Error downloading post: /bishamberdas/p/CqcebfesilC/\n",
      "Error downloading post: /bishamberdas/reel/CqUfNc5pDwq/\n",
      "Error downloading post: /bishamberdas/p/Co_6WE8MlOB/\n",
      "Error downloading post: /bishamberdas/reel/CojmsXwMDo4/\n",
      "Error downloading post: /bishamberdas/p/CoZgjcxMxOr/\n",
      "Error downloading post: /bishamberdas/p/CnVb3PmKovm/\n",
      "Error downloading post: /bishamberdas/reel/CnOZWtBBVYM/\n",
      "Error downloading post: /bishamberdas/reel/CmGZn4NOUTF/\n",
      "Error downloading post: /bishamberdas/reel/ClMQAHzsrPb/\n",
      "Error downloading post: /bishamberdas/reel/ClA7BjpNMxH/\n",
      "Error downloading post: /bishamberdas/reel/CknWVadLo82/\n",
      "Error downloading post: /bishamberdas/p/CkYP0DtMfUs/\n",
      "Error downloading post: /bishamberdas/reel/CkKZ6LYJhXz/\n",
      "Error downloading post: /bishamberdas/reel/CjzlQNYP2vr/\n",
      "Error downloading post: /bishamberdas/p/CjU0n8KsuBg/\n"
     ]
    },
    {
     "name": "stderr",
     "output_type": "stream",
     "text": []
    },
    {
     "name": "stdout",
     "output_type": "stream",
     "text": [
      "Error downloading post: /thechubbytwirler/p/DDcHYTfzGDM/\n",
      "Error downloading post: /thechubbytwirler/reel/DDYu4mxTEjh/\n",
      "Error downloading post: /thechubbytwirler/p/DDFJDl3TBlt/\n",
      "Error downloading post: /thechubbytwirler/reel/DDCexBUzBd1/\n",
      "Error downloading post: /thechubbytwirler/reel/DC_sY-WzlLq/\n",
      "Error downloading post: /thechubbytwirler/p/DC4axKNzm7f/\n",
      "Error downloading post: /thechubbytwirler/p/DC1z8rKT6s4/\n",
      "Error downloading post: /thechubbytwirler/reel/DCzEwTfzuqt/\n",
      "Error downloading post: /thechubbytwirler/p/DCra4lOz5MA/\n",
      "Error downloading post: /thechubbytwirler/reel/DCotO2Xxen6/\n",
      "Error downloading post: /thechubbytwirler/reel/DCmJkBExZqP/\n",
      "Error downloading post: /thechubbytwirler/p/DCO350PIkXk/\n",
      "Error downloading post: /thechubbytwirler/reel/DCMS-a9x0hy/\n",
      "Error downloading post: /thechubbytwirler/reel/DCJ5IuuI4vl/\n",
      "Error downloading post: /thechubbytwirler/reel/DCHCeaFxyhS/\n"
     ]
    },
    {
     "name": "stderr",
     "output_type": "stream",
     "text": []
    },
    {
     "name": "stdout",
     "output_type": "stream",
     "text": [
      "Error downloading post: /thechubbytwirler/reel/DCEi5IVoxYr/\n",
      "Error downloading post: /thechubbytwirler/p/DCBTSuXT5NH/\n",
      "Error downloading post: /thechubbytwirler/reel/DB_f88bR7c_/\n",
      "Error downloading post: /thechubbytwirler/p/DB6S0kvTARF/\n",
      "Error downloading post: /thechubbytwirler/reel/DB3s11ixsaI/\n",
      "Error downloading post: /thechubbytwirler/reel/DByVxeUoSnj/\n",
      "Error downloading post: /thechubbytwirler/reel/DBwHtNJRnFo/\n",
      "Error downloading post: /thechubbytwirler/p/DBtoe_DTDuL/\n",
      "Error downloading post: /thechubbytwirler/reel/DBqz9ZhIN1c/\n",
      "Error downloading post: /thechubbytwirler/p/DBlnQZqoc4E/\n",
      "Error downloading post: /thechubbytwirler/reel/DBjNWyJoKub/\n",
      "Error downloading post: /thechubbytwirler/reel/DBged-DxCAy/\n",
      "Error downloading post: /thechubbytwirler/reel/DBbWRnWo55Y/\n",
      "Error downloading post: /thechubbytwirler/reel/DBY5GlYxfeo/\n",
      "Error downloading post: /thechubbytwirler/reel/DBJWVcFRxV_/\n",
      "Error downloading post: /thechubbytwirler/reel/DBBmHXSRY0p/\n",
      "Error downloading post: /thechubbytwirler/reel/DAGVHa9IM4y/\n",
      "Error downloading post: /thechubbytwirler/reel/C_0TGrRoEIc/\n",
      "Error downloading post: /thechubbytwirler/reel/C_vIpXNoOXO/\n",
      "Error downloading post: /thechubbytwirler/p/C8ga_AMy0f2/\n",
      "Error downloading post: /thechubbytwirler/reel/C8ehr7Xoz10/\n",
      "Error downloading post: /thechubbytwirler/reel/C8cDtYDo5c5/\n",
      "Error downloading post: /thechubbytwirler/p/C8YTZ7_BTlG/\n",
      "Error downloading post: /thechubbytwirler/p/C8TJ3kjSRuG/\n"
     ]
    },
    {
     "name": "stderr",
     "output_type": "stream",
     "text": [
      "100%|██████████| 44/44 [00:00<00:00, 315.66it/s]\n",
      " 92%|█████████▏| 23/25 [02:55<00:01,  1.73it/s]"
     ]
    },
    {
     "name": "stdout",
     "output_type": "stream",
     "text": [
      "Error downloading post: /thechubbytwirler/reel/C8PLwQHod3C/\n",
      "Error downloading post: /thechubbytwirler/reel/C8POkuGo8dS/\n",
      "Error downloading post: /thechubbytwirler/p/C8Mm4hRvqrV/\n",
      "Error downloading post: /thechubbytwirler/reel/C8KCH1uhr1s/\n",
      "Error downloading post: /thechubbytwirler/p/C8E4n8GBKXY/\n"
     ]
    },
    {
     "name": "stderr",
     "output_type": "stream",
     "text": []
    },
    {
     "name": "stdout",
     "output_type": "stream",
     "text": [
      "Error downloading post: /posh_heat/reel/C9MJLfDMEcX/\n",
      "Error downloading post: /posh_heat/p/C8oJY8ROzl8/\n",
      "Error downloading post: /posh_heat/reel/C8d1E8FuVjR/\n",
      "Error downloading post: /posh_heat/p/C8JLfO_xvXh/\n",
      "Error downloading post: /posh_heat/reel/C78W94dOCal/\n",
      "Error downloading post: /posh_heat/p/C7YXebxOwiZ/\n",
      "Error downloading post: /posh_heat/reel/C6-jU8_umuu/\n",
      "Error downloading post: /posh_heat/reel/C6iO1AnuZEL/\n",
      "Error downloading post: /posh_heat/p/C6QSFvXuMla/\n",
      "Error downloading post: /posh_heat/reel/C6F8CI7LaU8/\n",
      "Error downloading post: /posh_heat/reel/C5m8tpgLNxF/\n",
      "Error downloading post: /posh_heat/reel/C5crJtHLnta/\n",
      "Error downloading post: /posh_heat/reel/C5SbIbTrT31/\n",
      "Error downloading post: /posh_heat/p/C5FhEWAuguf/\n",
      "Error downloading post: /posh_heat/reel/C4zgt_VOFZc/\n",
      "Error downloading post: /posh_heat/reel/C4cT8tOOa1b/\n",
      "Error downloading post: /posh_heat/p/C39gHH-Lp8r/\n",
      "Error downloading post: /posh_heat/reel/C3ri6d3LTFj/\n",
      "Error downloading post: /posh_heat/reel/C3jz892OeMm/\n",
      "Error downloading post: /posh_heat/p/C2bt_N0rCV0/\n",
      "Error downloading post: /posh_heat/reel/C2HJqFdriDM/\n",
      "Error downloading post: /posh_heat/p/C1v7E_-O2zy/\n",
      "Error downloading post: /posh_heat/reel/C1gfFCfOOyu/\n",
      "Error downloading post: /posh_heat/p/C1ELueGLv3D/\n",
      "Error downloading post: /posh_heat/reel/C03VvpwLUxu/\n",
      "Error downloading post: /posh_heat/reel/C0lJFiIOP8K/\n",
      "Error downloading post: /posh_heat/p/C0dk2NRO7jw/\n",
      "Error downloading post: /posh_heat/reel/C0Qq7RluwoP/\n",
      "Error downloading post: /posh_heat/reel/Cz0W2FxOPQm/\n",
      "Error downloading post: /posh_heat/reel/CzYA7RXr8T9/\n",
      "Error downloading post: /posh_heat/reel/CzNrMgXOWUx/\n",
      "Error downloading post: /posh_heat/p/Cy7bWtkrkb8/\n",
      "Error downloading post: /posh_heat/reel/Cy5F06rOdwa/\n",
      "Error downloading post: /posh_heat/reel/Cyuv-pFOd6f/\n",
      "Error downloading post: /posh_heat/p/CyU-1Bmr8Du/\n",
      "Error downloading post: /posh_heat/reel/CyKrLLoOj4M/\n",
      "Error downloading post: /posh_heat/p/Cx4lieFr99J/\n",
      "Error downloading post: /posh_heat/reel/CxkBHLdOicF/\n",
      "Error downloading post: /posh_heat/reel/CxZwWfUL0Va/\n",
      "Error downloading post: /posh_heat/reel/CxPXO2POXJg/\n",
      "Error downloading post: /posh_heat/reel/CwrXMtzO3Nu/\n"
     ]
    },
    {
     "name": "stderr",
     "output_type": "stream",
     "text": [
      "100%|██████████| 45/45 [00:00<00:00, 444.84it/s]\n",
      " 96%|█████████▌| 24/25 [02:55<00:00,  2.23it/s]"
     ]
    },
    {
     "name": "stdout",
     "output_type": "stream",
     "text": [
      "Error downloading post: /posh_heat/p/CwhAUiLrBkP/\n",
      "Error downloading post: /posh_heat/reel/CwWtlLjI3Yj/\n",
      "Error downloading post: /posh_heat/p/CwJw0ZCLQoy/\n",
      "Error downloading post: /posh_heat/reel/Cv9DCMNt-Rp/\n"
     ]
    },
    {
     "name": "stderr",
     "output_type": "stream",
     "text": []
    },
    {
     "name": "stdout",
     "output_type": "stream",
     "text": [
      "Error downloading post: /adityamadiraju/reel/DGHFJReOo5f/\n",
      "Error downloading post: /adityamadiraju/p/DGE-X38OU8i/\n",
      "Error downloading post: /adityamadiraju/p/DGBNfUxOq7F/\n",
      "Error downloading post: /adityamadiraju/reel/DF-eIywJq87/\n",
      "Error downloading post: /adityamadiraju/reel/DF9QRl8R_NF/\n",
      "Error downloading post: /adityamadiraju/reel/DF26C1_OiUS/\n",
      "Error downloading post: /adityamadiraju/reel/DF1c2Ziu3cp/\n",
      "Error downloading post: /adityamadiraju/reel/DF0RORPOOp8/\n",
      "Error downloading post: /adityamadiraju/reel/DFyh7PXO8yT/\n",
      "Error downloading post: /adityamadiraju/reel/DFxqiEWO8GN/\n",
      "Error downloading post: /adityamadiraju/reel/DFvHb4NuWrd/\n",
      "Error downloading post: /adityamadiraju/reel/DFs01-3PCng/\n",
      "Error downloading post: /adityamadiraju/reel/DFsYjBtuqIe/\n",
      "Error downloading post: /adityamadiraju/p/DFqcxTrv3xU/\n",
      "Error downloading post: /adityamadiraju/reel/DFp8RCpOtkL/\n",
      "Error downloading post: /adityamadiraju/reel/DFolfk8O0f6/\n",
      "Error downloading post: /adityamadiraju/reel/DFn9tFmvjjF/\n",
      "Error downloading post: /adityamadiraju/reel/DFjY_VHupUy/\n",
      "Error downloading post: /adityamadiraju/reel/DFiNrq9OV2-/\n",
      "Error downloading post: /adityamadiraju/reel/DFf2aAeOmV0/\n",
      "Error downloading post: /adityamadiraju/reel/DFfdY12ODfL/\n",
      "Error downloading post: /adityamadiraju/reel/DFdBjQbJrs8/\n",
      "Error downloading post: /adityamadiraju/p/DFbAhwKveEZ/\n",
      "Error downloading post: /adityamadiraju/reel/DFagzKCOo3E/\n",
      "Error downloading post: /adityamadiraju/reel/DFYEHBtuhmg/\n",
      "Error downloading post: /adityamadiraju/p/DFX2OGbuKrJ/\n",
      "Error downloading post: /adityamadiraju/reel/DFSwFThOn4d/\n",
      "Error downloading post: /adityamadiraju/reel/DFNlDvqOeKU/\n",
      "Error downloading post: /adityamadiraju/reel/DFLpKTPv1L-/\n",
      "Error downloading post: /adityamadiraju/reel/DFLM-6KOs3u/\n",
      "Error downloading post: /adityamadiraju/reel/DFK094auhht/\n",
      "Error downloading post: /adityamadiraju/reel/DFIoZPduidP/\n",
      "Error downloading post: /adityamadiraju/reel/DFIg09Lu91i/\n",
      "Error downloading post: /adityamadiraju/reel/DFHR1YeONaG/\n",
      "Error downloading post: /adityamadiraju/reel/DFGJGwgOaE-/\n",
      "Error downloading post: /adityamadiraju/p/DFAlpCeuytZ/\n",
      "Error downloading post: /adityamadiraju/reel/DE_hPpAOhBj/\n",
      "Error downloading post: /adityamadiraju/reel/DE_QUEVuQJt/\n"
     ]
    },
    {
     "name": "stderr",
     "output_type": "stream",
     "text": [
      "100%|██████████| 43/43 [00:00<00:00, 316.98it/s]\n",
      "100%|██████████| 25/25 [02:55<00:00,  7.02s/it]"
     ]
    },
    {
     "name": "stdout",
     "output_type": "stream",
     "text": [
      "Error downloading post: /adityamadiraju/reel/DE-PUjoOIbd/\n",
      "Error downloading post: /adityamadiraju/reel/DE8mB8huVeA/\n",
      "Error downloading post: /adityamadiraju/reel/DE5N8k8u1XN/\n",
      "Error downloading post: /adityamadiraju/reel/DE48DyguUhf/\n",
      "Error downloading post: /adityamadiraju/reel/DE3jOYOOOXY/\n"
     ]
    },
    {
     "name": "stderr",
     "output_type": "stream",
     "text": [
      "\n"
     ]
    }
   ],
   "source": [
    "# Step 3: download the posts\n",
    "for profile in tqdm(profiles):\n",
    "    for post in tqdm(profile[\"posts\"]):\n",
    "        if post.split('/')[-2] not in fnames:\n",
    "            try:\n",
    "                driver.get(f\"https://www.instagram.com{post}\")\n",
    "                time.sleep(2)\n",
    "                soup = BeautifulSoup(driver.page_source, 'html.parser')\n",
    "                download_post(post)\n",
    "            except:\n",
    "                skipped.append(post)\n",
    "                print(f\"Error downloading post: {post}\")\n",
    "                continue"
   ]
  },
  {
   "cell_type": "code",
   "execution_count": 300,
   "metadata": {},
   "outputs": [],
   "source": [
    "login()"
   ]
  },
  {
   "cell_type": "code",
   "execution_count": 307,
   "metadata": {},
   "outputs": [],
   "source": [
    "driver.refresh()"
   ]
  },
  {
   "cell_type": "code",
   "execution_count": 311,
   "metadata": {},
   "outputs": [
    {
     "name": "stdout",
     "output_type": "stream",
     "text": [
      "Reached the end of comments.\n"
     ]
    }
   ],
   "source": [
    "load_comments()"
   ]
  },
  {
   "cell_type": "code",
   "execution_count": null,
   "metadata": {},
   "outputs": [],
   "source": []
  },
  {
   "cell_type": "code",
   "execution_count": 340,
   "metadata": {},
   "outputs": [],
   "source": [
    "def scroll_comments():\n",
    "    while True:\n",
    "        try:\n",
    "            # Find the comments section\n",
    "            comment_section = driver.find_element(By.XPATH, '//*[@id=\"mount_0_0_2n\"]/div/div/div[2]/div/div/div[1]/div[1]/div[1]/section/main/div[2]/div[1]/article/div/div[2]/div/div[2]/div[1]/ul/div[3]/div')  # Adjust selector if needed\n",
    "\n",
    "            # Scroll down using JavaScript\n",
    "            driver.execute_script(\"arguments[0].scrollTop = arguments[0].scrollHeight\", comment_section)\n",
    "            time.sleep(2)\n",
    "\n",
    "            # Click \"Load more comments\" if available\n",
    "            load_more_button = driver.find_elements(By.XPATH, \"//span[contains(text(),'View more comments')]\")\n",
    "            if load_more_button:\n",
    "                load_more_button[0].click()\n",
    "                time.sleep(2)\n",
    "            else:\n",
    "                break  # Exit if no more comments to load\n",
    "\n",
    "        except Exception as e:\n",
    "            print(\"Error:\", e)\n",
    "            break"
   ]
  },
  {
   "cell_type": "code",
   "execution_count": 341,
   "metadata": {},
   "outputs": [],
   "source": [
    "scroll_comments()"
   ]
  },
  {
   "cell_type": "code",
   "execution_count": 339,
   "metadata": {},
   "outputs": [],
   "source": [
    "comment_section = driver.find_element(By.CSS_SELECTOR, '#mount_0_0_z8 > div > div > div.x9f619.x1n2onr6.x1ja2u2z > div > div > div.x78zum5.xdt5ytf.x1t2pt76.x1n2onr6.x1ja2u2z.x10cihs4 > div.x9f619.xvbhtw8.x78zum5.x168nmei.x13lgxp2.x5pf9jr.xo71vjh.x1uhb9sk.x1plvlek.xryxfnj.x1c4vz4f.x2lah0s.x1q0g3np.xqjyukv.x1qjc9v5.x1oa3qoh.x1qughib > div.x1gryazu.xh8yej3.x10o80wk.x14k21rp.x17snn68.x6osk4m.x1porb0y.x8vgawa > section > main > div._aa6b._ad9f._aa6d > div._aa6e > article > div > div.x9f619.xjbqb8w.x78zum5.x168nmei.x13lgxp2.x5pf9jr.xo71vjh.x1n2onr6.x1plvlek.xryxfnj.x1c4vz4f.x2lah0s.xdt5ytf.xqjyukv.x1qjc9v5.x1oa3qoh.x1nhvcw1 > div > div.x78zum5.xdt5ytf.x1q2y9iw.x1n2onr6.xh8yej3.x9f619.x1iyjqo2.x18l3tf1.x26u7qi.xy80clv.xexx8yu.x4uap5.x18d9i69.xkhd6sd > div.x78zum5.xdt5ytf.x1iyjqo2.xs83m0k.x2lwn1j.x1odjw0f.x1n2onr6.x9ek82g.x6ikm8r.xdj266r.x11i5rnm.x4ii5y1.x1mh8g0r.xexx8yu.x1pi30zi.x18d9i69.x1swvt13 > ul > div:nth-child(2) > div > div > div > div > div')  # Adjust selector if needed\n",
    "\n",
    "# Scroll down using JavaScript\n",
    "driver.execute_script(\"arguments[0].scrollTop = arguments[0].scrollHeight\", comment_section)\n",
    "time.sleep(2)"
   ]
  },
  {
   "cell_type": "code",
   "execution_count": 329,
   "metadata": {},
   "outputs": [],
   "source": [
    "driver.get(\"https://www.instagram.com/littlemissflint/p/DBrDSAexZpS/\")"
   ]
  },
  {
   "cell_type": "code",
   "execution_count": 331,
   "metadata": {},
   "outputs": [
    {
     "name": "stdout",
     "output_type": "stream",
     "text": [
      "Error during scrolling: Message: no such element: Unable to locate element: {\"method\":\"xpath\",\"selector\":\"/html/body/div[1]/div/div/div[2]/div/div/div[1]/div[1]/div[1]/section/main/div/div[1]/div/div[2]/div/div[2]\"}\n",
      "  (Session info: chrome=134.0.6998.45); For documentation on this error, please visit: https://www.selenium.dev/documentation/webdriver/troubleshooting/errors#no-such-element-exception\n",
      "Stacktrace:\n",
      "0   undetected_chromedriver             0x0000000104b20922 undetected_chromedriver + 5843234\n",
      "1   undetected_chromedriver             0x0000000104b185ea undetected_chromedriver + 5809642\n",
      "2   undetected_chromedriver             0x00000001045f4dfe undetected_chromedriver + 421374\n",
      "3   undetected_chromedriver             0x0000000104648b69 undetected_chromedriver + 764777\n",
      "4   undetected_chromedriver             0x0000000104648f51 undetected_chromedriver + 765777\n",
      "5   undetected_chromedriver             0x0000000104698664 undetected_chromedriver + 1091172\n",
      "6   undetected_chromedriver             0x000000010466fc0d undetected_chromedriver + 924685\n",
      "7   undetected_chromedriver             0x000000010469563a undetected_chromedriver + 1078842\n",
      "8   undetected_chromedriver             0x000000010466f9b3 undetected_chromedriver + 924083\n",
      "9   undetected_chromedriver             0x0000000104639ec3 undetected_chromedriver + 704195\n",
      "10  undetected_chromedriver             0x000000010463ada1 undetected_chromedriver + 708001\n",
      "11  undetected_chromedriver             0x0000000104ae8d40 undetected_chromedriver + 5614912\n",
      "12  undetected_chromedriver             0x0000000104aeb773 undetected_chromedriver + 5625715\n",
      "13  undetected_chromedriver             0x0000000104aeb2eb undetected_chromedriver + 5624555\n",
      "14  undetected_chromedriver             0x0000000104aebbd5 undetected_chromedriver + 5626837\n",
      "15  undetected_chromedriver             0x0000000104acdcef undetected_chromedriver + 5504239\n",
      "16  undetected_chromedriver             0x0000000104aebebc undetected_chromedriver + 5627580\n",
      "17  undetected_chromedriver             0x0000000104abe8f4 undetected_chromedriver + 5441780\n",
      "18  undetected_chromedriver             0x0000000104b084f8 undetected_chromedriver + 5743864\n",
      "19  undetected_chromedriver             0x0000000104b086be undetected_chromedriver + 5744318\n",
      "20  undetected_chromedriver             0x0000000104b181b8 undetected_chromedriver + 5808568\n",
      "21  libsystem_pthread.dylib             0x00007ff80151c253 _pthread_start + 99\n",
      "22  libsystem_pthread.dylib             0x00007ff801517bef thread_start + 15\n",
      "\n"
     ]
    }
   ],
   "source": [
    "load_comments()"
   ]
  },
  {
   "cell_type": "code",
   "execution_count": 325,
   "metadata": {},
   "outputs": [],
   "source": [
    "comments_section = driver.find_element(By.XPATH, '/html/body/div[1]/div/div/div[2]/div/div/div[1]/div[1]/div[1]/section/main/div/div[1]/div/div[2]/div/div[2]')\n"
   ]
  },
  {
   "cell_type": "code",
   "execution_count": 326,
   "metadata": {},
   "outputs": [
    {
     "data": {
      "text/plain": [
       "2004"
      ]
     },
     "execution_count": 326,
     "metadata": {},
     "output_type": "execute_result"
    }
   ],
   "source": [
    "driver.execute_script(\"return arguments[0].scrollHeight\", comments_section)"
   ]
  },
  {
   "cell_type": "code",
   "execution_count": 327,
   "metadata": {},
   "outputs": [],
   "source": [
    "driver.execute_script(\"arguments[0].scrollTop = arguments[0].scrollHeight\", comments_section)"
   ]
  },
  {
   "cell_type": "code",
   "execution_count": null,
   "metadata": {},
   "outputs": [],
   "source": []
  },
  {
   "cell_type": "code",
   "execution_count": 301,
   "metadata": {},
   "outputs": [
    {
     "name": "stderr",
     "output_type": "stream",
     "text": [
      "  0%|          | 0/36 [00:03<?, ?it/s]\n",
      "  0%|          | 0/25 [00:03<?, ?it/s]\n"
     ]
    },
    {
     "ename": "NoSuchElementException",
     "evalue": "Message: no such element: Unable to locate element: {\"method\":\"css selector\",\"selector\":\"#mount_0_0_Fk > div > div > div.x9f619.x1n2onr6.x1ja2u2z > div > div > div.x78zum5.xdt5ytf.x1t2pt76.x1n2onr6.x1ja2u2z.x10cihs4 > div.x9f619.xvbhtw8.x78zum5.x168nmei.x13lgxp2.x5pf9jr.xo71vjh.x1uhb9sk.x1plvlek.xryxfnj.x1c4vz4f.x2lah0s.x1q0g3np.xqjyukv.x1qjc9v5.x1oa3qoh.x1qughib > div.x1gryazu.xh8yej3.x10o80wk.x14k21rp.x17snn68.x6osk4m.x1porb0y.x8vgawa > section > main > div._aa6b._ad9f._aa6d > div._aa6e > article > div > div.x9f619.xjbqb8w.x78zum5.x168nmei.x13lgxp2.x5pf9jr.xo71vjh.x1n2onr6.x1plvlek.xryxfnj.x1c4vz4f.x2lah0s.xdt5ytf.xqjyukv.x1qjc9v5.x1oa3qoh.x1nhvcw1 > div > div.x78zum5.xdt5ytf.x1q2y9iw.x1n2onr6.xh8yej3.x9f619.x1iyjqo2.x18l3tf1.x26u7qi.xy80clv.xexx8yu.x4uap5.x18d9i69.xkhd6sd > div.x78zum5.xdt5ytf.x1iyjqo2.xs83m0k.x2lwn1j.x1odjw0f.x1n2onr6.x9ek82g.x6ikm8r.xdj266r.x11i5rnm.x4ii5y1.x1mh8g0r.xexx8yu.x1pi30zi.x18d9i69.x1swvt13 > ul > div:nth-child(3)\"}\n  (Session info: chrome=134.0.6998.45); For documentation on this error, please visit: https://www.selenium.dev/documentation/webdriver/troubleshooting/errors#no-such-element-exception\nStacktrace:\n0   undetected_chromedriver             0x0000000104b20922 undetected_chromedriver + 5843234\n1   undetected_chromedriver             0x0000000104b185ea undetected_chromedriver + 5809642\n2   undetected_chromedriver             0x00000001045f4dfe undetected_chromedriver + 421374\n3   undetected_chromedriver             0x0000000104648b69 undetected_chromedriver + 764777\n4   undetected_chromedriver             0x0000000104648f51 undetected_chromedriver + 765777\n5   undetected_chromedriver             0x0000000104698664 undetected_chromedriver + 1091172\n6   undetected_chromedriver             0x000000010466fc0d undetected_chromedriver + 924685\n7   undetected_chromedriver             0x000000010469563a undetected_chromedriver + 1078842\n8   undetected_chromedriver             0x000000010466f9b3 undetected_chromedriver + 924083\n9   undetected_chromedriver             0x0000000104639ec3 undetected_chromedriver + 704195\n10  undetected_chromedriver             0x000000010463ada1 undetected_chromedriver + 708001\n11  undetected_chromedriver             0x0000000104ae8d40 undetected_chromedriver + 5614912\n12  undetected_chromedriver             0x0000000104aeb773 undetected_chromedriver + 5625715\n13  undetected_chromedriver             0x0000000104aeb2eb undetected_chromedriver + 5624555\n14  undetected_chromedriver             0x0000000104aebbd5 undetected_chromedriver + 5626837\n15  undetected_chromedriver             0x0000000104acdcef undetected_chromedriver + 5504239\n16  undetected_chromedriver             0x0000000104aebebc undetected_chromedriver + 5627580\n17  undetected_chromedriver             0x0000000104abe8f4 undetected_chromedriver + 5441780\n18  undetected_chromedriver             0x0000000104b084f8 undetected_chromedriver + 5743864\n19  undetected_chromedriver             0x0000000104b086be undetected_chromedriver + 5744318\n20  undetected_chromedriver             0x0000000104b181b8 undetected_chromedriver + 5808568\n21  libsystem_pthread.dylib             0x00007ff80151c253 _pthread_start + 99\n22  libsystem_pthread.dylib             0x00007ff801517bef thread_start + 15\n",
     "output_type": "error",
     "traceback": [
      "\u001b[0;31m---------------------------------------------------------------------------\u001b[0m",
      "\u001b[0;31mNoSuchElementException\u001b[0m                    Traceback (most recent call last)",
      "Cell \u001b[0;32mIn[301], line 7\u001b[0m\n\u001b[1;32m      5\u001b[0m driver\u001b[38;5;241m.\u001b[39mget(\u001b[38;5;124mf\u001b[39m\u001b[38;5;124m\"\u001b[39m\u001b[38;5;124mhttps://www.instagram.com\u001b[39m\u001b[38;5;132;01m{\u001b[39;00mpost\u001b[38;5;132;01m}\u001b[39;00m\u001b[38;5;124m\"\u001b[39m)\n\u001b[1;32m      6\u001b[0m time\u001b[38;5;241m.\u001b[39msleep(\u001b[38;5;241m2\u001b[39m)\n\u001b[0;32m----> 7\u001b[0m comments \u001b[38;5;241m=\u001b[39m get_all_comments()\n\u001b[1;32m      8\u001b[0m save_comments(post\u001b[38;5;241m.\u001b[39msplit(\u001b[38;5;124m\"\u001b[39m\u001b[38;5;124m/\u001b[39m\u001b[38;5;124m\"\u001b[39m)[\u001b[38;5;241m-\u001b[39m\u001b[38;5;241m2\u001b[39m], comments)\n\u001b[1;32m      9\u001b[0m time\u001b[38;5;241m.\u001b[39msleep(\u001b[38;5;241m2\u001b[39m)\n",
      "Cell \u001b[0;32mIn[270], line 96\u001b[0m, in \u001b[0;36mget_all_comments\u001b[0;34m()\u001b[0m\n\u001b[1;32m     95\u001b[0m \u001b[38;5;28;01mdef\u001b[39;00m \u001b[38;5;21mget_all_comments\u001b[39m():\n\u001b[0;32m---> 96\u001b[0m     load_comments()\n\u001b[1;32m     97\u001b[0m     comments \u001b[38;5;241m=\u001b[39m driver\u001b[38;5;241m.\u001b[39mfind_element(By\u001b[38;5;241m.\u001b[39mXPATH, \u001b[38;5;124m'\u001b[39m\u001b[38;5;124m/html/body/div[1]/div/div/div[2]/div/div/div[1]/div[1]/div[1]/section/main/div[2]/div[1]/article/div/div[2]/div/div[2]/div[1]/ul/div[3]/div/div\u001b[39m\u001b[38;5;124m'\u001b[39m)\u001b[38;5;241m.\u001b[39mget_attribute(\u001b[38;5;124m\"\u001b[39m\u001b[38;5;124mouterHTML\u001b[39m\u001b[38;5;124m\"\u001b[39m)\n\u001b[1;32m     99\u001b[0m     soup \u001b[38;5;241m=\u001b[39m BeautifulSoup(comments)\n",
      "Cell \u001b[0;32mIn[270], line 6\u001b[0m, in \u001b[0;36mload_comments\u001b[0;34m()\u001b[0m\n\u001b[1;32m      5\u001b[0m \u001b[38;5;28;01mdef\u001b[39;00m \u001b[38;5;21mload_comments\u001b[39m():\n\u001b[0;32m----> 6\u001b[0m     comments_section \u001b[38;5;241m=\u001b[39m driver\u001b[38;5;241m.\u001b[39mfind_element(By\u001b[38;5;241m.\u001b[39mCSS_SELECTOR, \u001b[38;5;124m'\u001b[39m\u001b[38;5;124m#mount_0_0_Fk > div > div > div.x9f619.x1n2onr6.x1ja2u2z > div > div > div.x78zum5.xdt5ytf.x1t2pt76.x1n2onr6.x1ja2u2z.x10cihs4 > div.x9f619.xvbhtw8.x78zum5.x168nmei.x13lgxp2.x5pf9jr.xo71vjh.x1uhb9sk.x1plvlek.xryxfnj.x1c4vz4f.x2lah0s.x1q0g3np.xqjyukv.x1qjc9v5.x1oa3qoh.x1qughib > div.x1gryazu.xh8yej3.x10o80wk.x14k21rp.x17snn68.x6osk4m.x1porb0y.x8vgawa > section > main > div._aa6b._ad9f._aa6d > div._aa6e > article > div > div.x9f619.xjbqb8w.x78zum5.x168nmei.x13lgxp2.x5pf9jr.xo71vjh.x1n2onr6.x1plvlek.xryxfnj.x1c4vz4f.x2lah0s.xdt5ytf.xqjyukv.x1qjc9v5.x1oa3qoh.x1nhvcw1 > div > div.x78zum5.xdt5ytf.x1q2y9iw.x1n2onr6.xh8yej3.x9f619.x1iyjqo2.x18l3tf1.x26u7qi.xy80clv.xexx8yu.x4uap5.x18d9i69.xkhd6sd > div.x78zum5.xdt5ytf.x1iyjqo2.xs83m0k.x2lwn1j.x1odjw0f.x1n2onr6.x9ek82g.x6ikm8r.xdj266r.x11i5rnm.x4ii5y1.x1mh8g0r.xexx8yu.x1pi30zi.x18d9i69.x1swvt13 > ul > div:nth-child(3)\u001b[39m\u001b[38;5;124m'\u001b[39m)\n\u001b[1;32m      9\u001b[0m     \u001b[38;5;66;03m# Scroll and check for the \"Load more comments\" button\u001b[39;00m\n\u001b[1;32m     10\u001b[0m     \u001b[38;5;28;01mwhile\u001b[39;00m \u001b[38;5;28;01mTrue\u001b[39;00m:\n\u001b[1;32m     11\u001b[0m         \u001b[38;5;66;03m# Scroll down in the comments section\u001b[39;00m\n",
      "File \u001b[0;32m/opt/anaconda3/lib/python3.12/site-packages/selenium/webdriver/remote/webdriver.py:898\u001b[0m, in \u001b[0;36mWebDriver.find_element\u001b[0;34m(self, by, value)\u001b[0m\n\u001b[1;32m    895\u001b[0m         \u001b[38;5;28;01mraise\u001b[39;00m NoSuchElementException(\u001b[38;5;124mf\u001b[39m\u001b[38;5;124m\"\u001b[39m\u001b[38;5;124mCannot locate relative element with: \u001b[39m\u001b[38;5;132;01m{\u001b[39;00mby\u001b[38;5;241m.\u001b[39mroot\u001b[38;5;132;01m}\u001b[39;00m\u001b[38;5;124m\"\u001b[39m)\n\u001b[1;32m    896\u001b[0m     \u001b[38;5;28;01mreturn\u001b[39;00m elements[\u001b[38;5;241m0\u001b[39m]\n\u001b[0;32m--> 898\u001b[0m \u001b[38;5;28;01mreturn\u001b[39;00m \u001b[38;5;28mself\u001b[39m\u001b[38;5;241m.\u001b[39mexecute(Command\u001b[38;5;241m.\u001b[39mFIND_ELEMENT, {\u001b[38;5;124m\"\u001b[39m\u001b[38;5;124musing\u001b[39m\u001b[38;5;124m\"\u001b[39m: by, \u001b[38;5;124m\"\u001b[39m\u001b[38;5;124mvalue\u001b[39m\u001b[38;5;124m\"\u001b[39m: value})[\u001b[38;5;124m\"\u001b[39m\u001b[38;5;124mvalue\u001b[39m\u001b[38;5;124m\"\u001b[39m]\n",
      "File \u001b[0;32m/opt/anaconda3/lib/python3.12/site-packages/selenium/webdriver/remote/webdriver.py:429\u001b[0m, in \u001b[0;36mWebDriver.execute\u001b[0;34m(self, driver_command, params)\u001b[0m\n\u001b[1;32m    427\u001b[0m response \u001b[38;5;241m=\u001b[39m \u001b[38;5;28mself\u001b[39m\u001b[38;5;241m.\u001b[39mcommand_executor\u001b[38;5;241m.\u001b[39mexecute(driver_command, params)\n\u001b[1;32m    428\u001b[0m \u001b[38;5;28;01mif\u001b[39;00m response:\n\u001b[0;32m--> 429\u001b[0m     \u001b[38;5;28mself\u001b[39m\u001b[38;5;241m.\u001b[39merror_handler\u001b[38;5;241m.\u001b[39mcheck_response(response)\n\u001b[1;32m    430\u001b[0m     response[\u001b[38;5;124m\"\u001b[39m\u001b[38;5;124mvalue\u001b[39m\u001b[38;5;124m\"\u001b[39m] \u001b[38;5;241m=\u001b[39m \u001b[38;5;28mself\u001b[39m\u001b[38;5;241m.\u001b[39m_unwrap_value(response\u001b[38;5;241m.\u001b[39mget(\u001b[38;5;124m\"\u001b[39m\u001b[38;5;124mvalue\u001b[39m\u001b[38;5;124m\"\u001b[39m, \u001b[38;5;28;01mNone\u001b[39;00m))\n\u001b[1;32m    431\u001b[0m     \u001b[38;5;28;01mreturn\u001b[39;00m response\n",
      "File \u001b[0;32m/opt/anaconda3/lib/python3.12/site-packages/selenium/webdriver/remote/errorhandler.py:232\u001b[0m, in \u001b[0;36mErrorHandler.check_response\u001b[0;34m(self, response)\u001b[0m\n\u001b[1;32m    230\u001b[0m         alert_text \u001b[38;5;241m=\u001b[39m value[\u001b[38;5;124m\"\u001b[39m\u001b[38;5;124malert\u001b[39m\u001b[38;5;124m\"\u001b[39m]\u001b[38;5;241m.\u001b[39mget(\u001b[38;5;124m\"\u001b[39m\u001b[38;5;124mtext\u001b[39m\u001b[38;5;124m\"\u001b[39m)\n\u001b[1;32m    231\u001b[0m     \u001b[38;5;28;01mraise\u001b[39;00m exception_class(message, screen, stacktrace, alert_text)  \u001b[38;5;66;03m# type: ignore[call-arg]  # mypy is not smart enough here\u001b[39;00m\n\u001b[0;32m--> 232\u001b[0m \u001b[38;5;28;01mraise\u001b[39;00m exception_class(message, screen, stacktrace)\n",
      "\u001b[0;31mNoSuchElementException\u001b[0m: Message: no such element: Unable to locate element: {\"method\":\"css selector\",\"selector\":\"#mount_0_0_Fk > div > div > div.x9f619.x1n2onr6.x1ja2u2z > div > div > div.x78zum5.xdt5ytf.x1t2pt76.x1n2onr6.x1ja2u2z.x10cihs4 > div.x9f619.xvbhtw8.x78zum5.x168nmei.x13lgxp2.x5pf9jr.xo71vjh.x1uhb9sk.x1plvlek.xryxfnj.x1c4vz4f.x2lah0s.x1q0g3np.xqjyukv.x1qjc9v5.x1oa3qoh.x1qughib > div.x1gryazu.xh8yej3.x10o80wk.x14k21rp.x17snn68.x6osk4m.x1porb0y.x8vgawa > section > main > div._aa6b._ad9f._aa6d > div._aa6e > article > div > div.x9f619.xjbqb8w.x78zum5.x168nmei.x13lgxp2.x5pf9jr.xo71vjh.x1n2onr6.x1plvlek.xryxfnj.x1c4vz4f.x2lah0s.xdt5ytf.xqjyukv.x1qjc9v5.x1oa3qoh.x1nhvcw1 > div > div.x78zum5.xdt5ytf.x1q2y9iw.x1n2onr6.xh8yej3.x9f619.x1iyjqo2.x18l3tf1.x26u7qi.xy80clv.xexx8yu.x4uap5.x18d9i69.xkhd6sd > div.x78zum5.xdt5ytf.x1iyjqo2.xs83m0k.x2lwn1j.x1odjw0f.x1n2onr6.x9ek82g.x6ikm8r.xdj266r.x11i5rnm.x4ii5y1.x1mh8g0r.xexx8yu.x1pi30zi.x18d9i69.x1swvt13 > ul > div:nth-child(3)\"}\n  (Session info: chrome=134.0.6998.45); For documentation on this error, please visit: https://www.selenium.dev/documentation/webdriver/troubleshooting/errors#no-such-element-exception\nStacktrace:\n0   undetected_chromedriver             0x0000000104b20922 undetected_chromedriver + 5843234\n1   undetected_chromedriver             0x0000000104b185ea undetected_chromedriver + 5809642\n2   undetected_chromedriver             0x00000001045f4dfe undetected_chromedriver + 421374\n3   undetected_chromedriver             0x0000000104648b69 undetected_chromedriver + 764777\n4   undetected_chromedriver             0x0000000104648f51 undetected_chromedriver + 765777\n5   undetected_chromedriver             0x0000000104698664 undetected_chromedriver + 1091172\n6   undetected_chromedriver             0x000000010466fc0d undetected_chromedriver + 924685\n7   undetected_chromedriver             0x000000010469563a undetected_chromedriver + 1078842\n8   undetected_chromedriver             0x000000010466f9b3 undetected_chromedriver + 924083\n9   undetected_chromedriver             0x0000000104639ec3 undetected_chromedriver + 704195\n10  undetected_chromedriver             0x000000010463ada1 undetected_chromedriver + 708001\n11  undetected_chromedriver             0x0000000104ae8d40 undetected_chromedriver + 5614912\n12  undetected_chromedriver             0x0000000104aeb773 undetected_chromedriver + 5625715\n13  undetected_chromedriver             0x0000000104aeb2eb undetected_chromedriver + 5624555\n14  undetected_chromedriver             0x0000000104aebbd5 undetected_chromedriver + 5626837\n15  undetected_chromedriver             0x0000000104acdcef undetected_chromedriver + 5504239\n16  undetected_chromedriver             0x0000000104aebebc undetected_chromedriver + 5627580\n17  undetected_chromedriver             0x0000000104abe8f4 undetected_chromedriver + 5441780\n18  undetected_chromedriver             0x0000000104b084f8 undetected_chromedriver + 5743864\n19  undetected_chromedriver             0x0000000104b086be undetected_chromedriver + 5744318\n20  undetected_chromedriver             0x0000000104b181b8 undetected_chromedriver + 5808568\n21  libsystem_pthread.dylib             0x00007ff80151c253 _pthread_start + 99\n22  libsystem_pthread.dylib             0x00007ff801517bef thread_start + 15\n"
     ]
    }
   ],
   "source": [
    "# Step 4: get comments \n",
    "\n",
    "for profile in tqdm(profiles):\n",
    "    for post in tqdm(profile[\"posts\"]):\n",
    "        driver.get(f\"https://www.instagram.com{post}\")\n",
    "        time.sleep(2)\n",
    "        comments = get_all_comments()\n",
    "        save_comments(post.split(\"/\")[-2], comments)\n",
    "        time.sleep(2)"
   ]
  },
  {
   "cell_type": "code",
   "execution_count": null,
   "metadata": {},
   "outputs": [],
   "source": []
  },
  {
   "cell_type": "code",
   "execution_count": null,
   "metadata": {},
   "outputs": [],
   "source": []
  },
  {
   "cell_type": "code",
   "execution_count": 290,
   "metadata": {},
   "outputs": [
    {
     "data": {
      "text/plain": [
       "{'num_posts': '1,993',\n",
       " 'num_followers': '191K',\n",
       " 'num_following': '1,835',\n",
       " 'bio': 'Mari Copeny Threads littlemissflint Public figure Mari aka Little Miss Flint.  Future President. Cheerleader. Role Model. Influencer.  #BGCAmbassador   Link icon linktr.ee/Littlemissflint',\n",
       " 'profile_picture': 'https://scontent-fra5-1.cdninstagram.com/v/t51.2885-19/440322848_1482077482681992_3814007692134227375_n.jpg?stp=dst-jpg_s150x150_tt6&_nc_ht=scontent-fra5-1.cdninstagram.com&_nc_cat=100&_nc_oc=Q6cZ2AHXC6_z9LrZ9QVHV2GjZExgqDjTeU5CBHnVr0eY1MxUu-e4onq0IbmHyBY9bKbdQYc&_nc_ohc=wktu0GZaxT4Q7kNvgG_f1Jz&_nc_gid=536b3cd908c946b4b0a10a47bbd2004b&edm=AP4sbd4BAAAA&ccb=7-5&oh=00_AYFrrX3QbNTmlLZfxgHpGhfE1ahcZ22U0QirQsmSr7ZMrA&oe=67D3D6EB&_nc_sid=7a9f4b',\n",
       " 'posts': ['/littlemissflint/p/DB10Al_xh50/',\n",
       "  '/littlemissflint/p/DB0HsS_RBC4/',\n",
       "  '/littlemissflint/p/DBrDSAexZpS/',\n",
       "  '/littlemissflint/p/DBmIATdxVwC/',\n",
       "  '/littlemissflint/reel/DBmFLaXxt6W/',\n",
       "  '/littlemissflint/p/DBh9Bj1xy9m/',\n",
       "  '/littlemissflint/p/DBXuaRvRCYP/',\n",
       "  '/littlemissflint/p/DBWlwRlRoxD/',\n",
       "  '/littlemissflint/p/DBU-iO1RU0x/',\n",
       "  '/littlemissflint/p/DBQ_-KNxuTh/',\n",
       "  '/littlemissflint/reel/DBNDq3YRW7S/',\n",
       "  '/littlemissflint/p/DA2URmuRdjv/',\n",
       "  '/littlemissflint/p/DAzpqSdR9GY/',\n",
       "  '/littlemissflint/p/DAmQpq0xNTv/',\n",
       "  '/littlemissflint/p/DAUaHJ_xO1-/',\n",
       "  '/littlemissflint/p/DAHThlnRXv0/',\n",
       "  '/littlemissflint/p/C_9Xy2WxxWk/',\n",
       "  '/littlemissflint/p/C_j5vf6x41y/',\n",
       "  '/littlemissflint/p/C_Vfz4ZRn_A/',\n",
       "  '/littlemissflint/p/C-EKNgvxsf1/',\n",
       "  '/littlemissflint/p/C9xnhDQRaxQ/',\n",
       "  '/littlemissflint/p/C9qmrfvxVLE/',\n",
       "  '/littlemissflint/p/C9G6uItsUS9/',\n",
       "  '/littlemissflint/p/C83XX94AVwo/',\n",
       "  '/littlemissflint/p/C83ESURxyOg/',\n",
       "  '/littlemissflint/p/C8vk5-0A9w2/',\n",
       "  '/littlemissflint/reel/C7k7hlVgH2j/',\n",
       "  '/littlemissflint/reel/C6PaHirLaFo/',\n",
       "  '/littlemissflint/p/C6Me6HZxUyy/',\n",
       "  '/littlemissflint/p/C6KnH9xLyB4/',\n",
       "  '/littlemissflint/reel/C6H6MEzr5Ug/',\n",
       "  '/littlemissflint/p/C6DPXNigZ_n/',\n",
       "  '/littlemissflint/p/C6ALE66Ly9a/',\n",
       "  '/littlemissflint/p/C5qyLA_r42X/',\n",
       "  '/littlemissflint/p/C5mqlS4rf5V/',\n",
       "  '/littlemissflint/p/C5UFGJLR2TO/']}"
      ]
     },
     "execution_count": 290,
     "metadata": {},
     "output_type": "execute_result"
    }
   ],
   "source": [
    "profiles[0]"
   ]
  },
  {
   "cell_type": "code",
   "execution_count": null,
   "metadata": {},
   "outputs": [],
   "source": []
  },
  {
   "cell_type": "code",
   "execution_count": null,
   "metadata": {},
   "outputs": [],
   "source": []
  },
  {
   "cell_type": "code",
   "execution_count": null,
   "metadata": {},
   "outputs": [],
   "source": []
  },
  {
   "cell_type": "code",
   "execution_count": 80,
   "metadata": {},
   "outputs": [],
   "source": [
    "# Get the comments\n",
    "def get_comments(post_id):\n",
    "    driver.get(f\"https://www.instagram.com{post_id}\")\n",
    "    time.sleep(2)\n",
    "    driver.execute_script(\"window.scrollTo(0, document.body.scrollHeight);\")\n",
    "    time.sleep(2)\n",
    "    soup = BeautifulSoup(driver.page_source, 'html.parser')\n",
    "    comments = [i.text for i in soup.find_all(\"span\", class_=\"gElp9\")]\n",
    "    return comments"
   ]
  },
  {
   "cell_type": "code",
   "execution_count": 81,
   "metadata": {},
   "outputs": [
    {
     "data": {
      "text/plain": [
       "[]"
      ]
     },
     "execution_count": 81,
     "metadata": {},
     "output_type": "execute_result"
    }
   ],
   "source": [
    "get_comments(posts[0])"
   ]
  },
  {
   "cell_type": "code",
   "execution_count": 121,
   "metadata": {},
   "outputs": [],
   "source": [
    "driver.get(f\"https://www.instagram.com{posts[0]}\")"
   ]
  },
  {
   "cell_type": "code",
   "execution_count": null,
   "metadata": {},
   "outputs": [],
   "source": []
  },
  {
   "cell_type": "code",
   "execution_count": null,
   "metadata": {},
   "outputs": [],
   "source": [
    "comments_section = driver.find_element(By.CSS_SELECTOR, '#mount_0_0_PW > div > div > div.x9f619.x1n2onr6.x1ja2u2z > div > div > div.x78zum5.xdt5ytf.x1t2pt76.x1n2onr6.x1ja2u2z.x10cihs4 > div.x9f619.xvbhtw8.x78zum5.x168nmei.x13lgxp2.x5pf9jr.xo71vjh.x1uhb9sk.x1plvlek.xryxfnj.x1c4vz4f.x2lah0s.x1q0g3np.xqjyukv.x1qjc9v5.x1oa3qoh.x1qughib > div.x1gryazu.xh8yej3.x10o80wk.x14k21rp.x17snn68.x6osk4m.x1porb0y.x8vgawa > section > main > div._aa6b._ad9f._aa6d > div._aa6e > article > div > div.x9f619.xjbqb8w.x78zum5.x168nmei.x13lgxp2.x5pf9jr.xo71vjh.x1n2onr6.x1plvlek.xryxfnj.x1c4vz4f.x2lah0s.xdt5ytf.xqjyukv.x1qjc9v5.x1oa3qoh.x1nhvcw1 > div > div.x78zum5.xdt5ytf.x1q2y9iw.x1n2onr6.xh8yej3.x9f619.x1iyjqo2.x18l3tf1.x26u7qi.xy80clv.xexx8yu.x4uap5.x18d9i69.xkhd6sd > div.x78zum5.xdt5ytf.x1iyjqo2.xs83m0k.x2lwn1j.x1odjw0f.x1n2onr6.x9ek82g.x6ikm8r.xdj266r.x11i5rnm.x4ii5y1.x1mh8g0r.xexx8yu.x1pi30zi.x18d9i69.x1swvt13 > ul')\n",
    "\n",
    "for _ in range(2):  # Adjust the range for more scrolling\n",
    "    driver.execute_script(\"arguments[0].scrollTop = arguments[0].scrollHeight\", comments_section)\n",
    "    time.sleep(2)  # Wait for more comments to load\n"
   ]
  },
  {
   "cell_type": "code",
   "execution_count": null,
   "metadata": {},
   "outputs": [
    {
     "name": "stdout",
     "output_type": "stream",
     "text": [
      "Clicked 'Load more comments' button\n",
      "Clicked 'Load more comments' button\n",
      "Clicked 'Load more comments' button\n",
      "Clicked 'Load more comments' button\n",
      "Clicked 'Load more comments' button\n",
      "Clicked 'Load more comments' button\n",
      "Clicked 'Load more comments' button\n",
      "Clicked 'Load more comments' button\n",
      "Clicked 'Load more comments' button\n",
      "Clicked 'Load more comments' button\n",
      "Clicked 'Load more comments' button\n",
      "Clicked 'Load more comments' button\n",
      "Clicked 'Load more comments' button\n",
      "Reached the end of comments.\n"
     ]
    }
   ],
   "source": []
  },
  {
   "cell_type": "code",
   "execution_count": null,
   "metadata": {},
   "outputs": [],
   "source": []
  },
  {
   "cell_type": "code",
   "execution_count": null,
   "metadata": {},
   "outputs": [],
   "source": []
  },
  {
   "cell_type": "code",
   "execution_count": null,
   "metadata": {},
   "outputs": [],
   "source": []
  },
  {
   "cell_type": "code",
   "execution_count": null,
   "metadata": {},
   "outputs": [],
   "source": []
  },
  {
   "cell_type": "code",
   "execution_count": 251,
   "metadata": {},
   "outputs": [],
   "source": [
    "soup = BeautifulSoup(driver.page_source, 'html.parser')"
   ]
  },
  {
   "cell_type": "code",
   "execution_count": 255,
   "metadata": {},
   "outputs": [
    {
     "data": {
      "text/plain": [
       "'https://scontent-fra3-1.cdninstagram.com/v/t51.2885-15/482993788_18493353967059374_7565227470484902809_n.jpg?stp=dst-jpg_e35_tt6&efg=eyJ2ZW5jb2RlX3RhZyI6ImltYWdlX3VybGdlbi4xMDgweDEzNTAuc2RyLmY3NTc2MS5kZWZhdWx0X2ltYWdlIn0&_nc_ht=scontent-fra3-1.cdninstagram.com&_nc_cat=1&_nc_oc=Q6cZ2AHdjYAaoY-jGUeGRiCENjw-VLHYOSbwsEG5dbfnCXHeMG0BBV-M62L_M6l7bZTZQfk&_nc_ohc=3pssZ-2tiYcQ7kNvgHrFNix&_nc_gid=e88e48ff98da47218f39ea8ba9f2cb51&edm=AP4sbd4BAAAA&ccb=7-5&ig_cache_key=MzU4MjAzOTQ2MzA0NDU2OTY2Nw%3D%3D.3-ccb7-5&oh=00_AYDfNY5Vp5lbekOamx_t2dnNgzbyET7336V14RaTswNuVw&oe=67CF25C4&_nc_sid=7a9f4b'"
      ]
     },
     "execution_count": 255,
     "metadata": {},
     "output_type": "execute_result"
    }
   ],
   "source": [
    "soup.find(\"article\").find(\"img\")['src']"
   ]
  },
  {
   "cell_type": "code",
   "execution_count": null,
   "metadata": {},
   "outputs": [],
   "source": []
  },
  {
   "cell_type": "code",
   "execution_count": null,
   "metadata": {},
   "outputs": [],
   "source": []
  },
  {
   "cell_type": "code",
   "execution_count": null,
   "metadata": {},
   "outputs": [],
   "source": []
  },
  {
   "cell_type": "code",
   "execution_count": null,
   "metadata": {},
   "outputs": [],
   "source": [
    "a"
   ]
  },
  {
   "cell_type": "markdown",
   "metadata": {},
   "source": []
  },
  {
   "cell_type": "markdown",
   "metadata": {},
   "source": [
    "data \n",
    "\n",
    "    -- comments.csv (append)\n",
    "    -- users.csv\n",
    "    -- posts.csv \n",
    "    -- media/\n",
    "        -- postXYZ.jpg\n",
    "        -- postXYY.mp4\n",
    "    "
   ]
  },
  {
   "cell_type": "code",
   "execution_count": null,
   "metadata": {},
   "outputs": [],
   "source": []
  },
  {
   "cell_type": "code",
   "execution_count": null,
   "metadata": {},
   "outputs": [],
   "source": []
  },
  {
   "cell_type": "code",
   "execution_count": null,
   "metadata": {},
   "outputs": [],
   "source": []
  },
  {
   "cell_type": "code",
   "execution_count": null,
   "metadata": {},
   "outputs": [],
   "source": []
  },
  {
   "cell_type": "code",
   "execution_count": null,
   "metadata": {},
   "outputs": [
    {
     "name": "stdout",
     "output_type": "stream",
     "text": [
      "downloads/DGyMFCXKt9X/2025-03-04_16-31-13_UTC.jpg [President Donald Trump has or…] downloads/DGyMFCXKt9X/2025-03-04_16-31-13_UTC.mp4 json \n",
      "Download complete! Files saved in: downloads/DGyMFCXKt9X\n"
     ]
    }
   ],
   "source": [
    "import os\n",
    "\n",
    "# Create an Instaloader instance\n",
    "loader = instaloader.Instaloader()\n",
    "\n",
    "# Reel ID (shortcode from URL)\n",
    "reel_id = \"DGyMFCXKt9X\"\n",
    "\n",
    "# Define the download path\n",
    "download_path = f\"downloads/{reel_id}\"\n",
    "\n",
    "# Create the directory if it doesn't exist\n",
    "os.makedirs(download_path, exist_ok=True)\n",
    "\n",
    "# Change Instaloader's download directory\n",
    "loader.dirname_pattern = download_path  # Ensures the reel is saved in its own folder\n",
    "\n",
    "# Download the reel\n",
    "post = instaloader.Post.from_shortcode(loader.context, reel_id)\n",
    "loader.download_post(post, target=download_path)\n",
    "\n",
    "print(f\"Download complete! Files saved in: {download_path}\")"
   ]
  },
  {
   "cell_type": "code",
   "execution_count": null,
   "metadata": {},
   "outputs": [],
   "source": []
  },
  {
   "cell_type": "code",
   "execution_count": null,
   "metadata": {},
   "outputs": [],
   "source": [
    "#"
   ]
  },
  {
   "cell_type": "code",
   "execution_count": null,
   "metadata": {},
   "outputs": [],
   "source": [
    "def extract_comment_details(soup):\n",
    "    # Extract user thumbnail\n",
    "    user_thumbnail = soup.find(\"img\", class_=\"xpdipgo\")[\"src\"] if soup.find(\"img\", class_=\"xpdipgo\") else None\n",
    "\n",
    "    # Extract username (usually inside an <a> tag)\n",
    "    username_tag = soup.select_one(\"a._a6hd\")\n",
    "    username = username_tag.text.strip() if username_tag else None\n",
    "\n",
    "    # Extract comment text (should come after username)\n",
    "    comment_tag = soup.find(\"span\", class_=\"x1lliihq x1plvlek xryxfnj x1n2onr6 x1ji0vk5 x18bv5gf x193iq5w xeuugli x1fj9vlw x13faqbe x1vvkbs x1s928wv xhkezso x1gmr53x x1cpjm7i x1fgarty x1943h6x x1i0vuye xvs91rp xo1l8bm x5n08af x10wh9bi x1wdrske x8viiok x18hxmgj\")  #(\"span.x1lliihq.x1plvlek\")\n",
    "    comment = comment_tag.text.strip() if comment_tag else None\n",
    "\n",
    "    # Extract number of likes\n",
    "    likes_tag = soup.select_one(\"span.x6ikm8r\")\n",
    "    likes = likes_tag.text.strip() if likes_tag else \"0 likes\"  # Default to 0 if not found\n",
    "\n",
    "    return {\n",
    "        \"thumbnail\": user_thumbnail,\n",
    "        \"username\": username,\n",
    "        \"comment\": comment,\n",
    "        \"likes\": likes\n",
    "    }\n"
   ]
  },
  {
   "cell_type": "code",
   "execution_count": 8,
   "metadata": {},
   "outputs": [],
   "source": [
    "soup = BeautifulSoup(driver.page_source, \"html.parser\")"
   ]
  },
  {
   "cell_type": "code",
   "execution_count": 17,
   "metadata": {},
   "outputs": [],
   "source": [
    "coomments = soup.find('div', class_='x78zum5 xdt5ytf x1iyjqo2').find_all(\"div\", class_=\"x9f619 xjbqb8w x78zum5 x168nmei x13lgxp2 x5pf9jr xo71vjh x1uhb9sk x1plvlek xryxfnj x1c4vz4f x2lah0s xdt5ytf xqjyukv x1qjc9v5 x1oa3qoh x1nhvcw1\")"
   ]
  },
  {
   "cell_type": "code",
   "execution_count": 10,
   "metadata": {},
   "outputs": [],
   "source": [
    "comments = soup.find_all(\"div\", class_=\"x9f619 xjbqb8w x78zum5 x168nmei x13lgxp2 x5pf9jr xo71vjh x1uhb9sk x1plvlek xryxfnj x1c4vz4f x2lah0s xdt5ytf xqjyukv x1qjc9v5 x1oa3qoh x1nhvcw1\")"
   ]
  },
  {
   "cell_type": "code",
   "execution_count": 11,
   "metadata": {},
   "outputs": [
    {
     "data": {
      "text/plain": [
       "1871"
      ]
     },
     "execution_count": 11,
     "metadata": {},
     "output_type": "execute_result"
    }
   ],
   "source": [
    "len(comments)"
   ]
  },
  {
   "cell_type": "code",
   "execution_count": 40,
   "metadata": {},
   "outputs": [
    {
     "data": {
      "text/plain": [
       "'The leader of Hanoi has spoken'"
      ]
     },
     "execution_count": 40,
     "metadata": {},
     "output_type": "execute_result"
    }
   ],
   "source": [
    "comments[1].find_all(\"span\")[-8].get_text()"
   ]
  },
  {
   "cell_type": "code",
   "execution_count": 46,
   "metadata": {},
   "outputs": [
    {
     "data": {
      "text/plain": [
       "'❤️❤️🙌Jane Fonda; you r awesome, amazing and always tell the truth 👏🔥'"
      ]
     },
     "execution_count": 46,
     "metadata": {},
     "output_type": "execute_result"
    }
   ],
   "source": [
    "comments[5].find_all(\"span\")[-1].get_text()"
   ]
  },
  {
   "cell_type": "code",
   "execution_count": 25,
   "metadata": {},
   "outputs": [
    {
     "data": {
      "text/plain": [
       "{'thumbnail': 'https://scontent-fra5-2.cdninstagram.com/v/t51.2885-19/482128978_1027739396083147_6639733810311271523_n.jpg?stp=dst-jpg_s150x150_tt6&_nc_ht=scontent-fra5-2.cdninstagram.com&_nc_cat=107&_nc_oc=Q6cZ2AHWA8SnnvKxCbUdsFOyWFoDOvpv-s9FW0O-F1EPkrgQRtWYiaMOH36Rhjpt55KZEpI&_nc_ohc=lWidVN4VodsQ7kNvgEIHPrs&_nc_gid=b30040398c2c49d984bdaecbfc2a0809&edm=AKp6CbIBAAAA&ccb=7-5&oh=00_AYBz_HScIIEIYTnpr8U51_zkeIbghsR1FP5HPL_2CPzzNw&oe=67CCF1E2&_nc_sid=d62176',\n",
       " 'username': '',\n",
       " 'comment': 'timothyferris63',\n",
       " 'likes': '58 likes'}"
      ]
     },
     "execution_count": 25,
     "metadata": {},
     "output_type": "execute_result"
    }
   ],
   "source": [
    "extract_comment_details(comments[1])"
   ]
  },
  {
   "cell_type": "code",
   "execution_count": null,
   "metadata": {},
   "outputs": [],
   "source": [
    "# User (poster) data\n",
    "    ## Username\n",
    "    ## User thumbnail\n",
    "    ## Number of followers, followings\n",
    "    ## Number of posts\n",
    "    ## Bio\n",
    "    ## checkmarked\n",
    "    ## User ID\n",
    "\n",
    "# Post data\n",
    "\n",
    "    ## download the video/image\n",
    "    ## Caption \n",
    "    ## post ID \n",
    "    ## User ID\n",
    "    ## Number of likes\n",
    "    ## Number of comments\n",
    "    ## date \n",
    "\n",
    "\n",
    "# Comments (ordered)\n",
    "    ## username\n",
    "    ## user thumbnail\n",
    "    ## comment\n",
    "    ## number of likes\n",
    "    ## number of replies\n",
    "    ## date (1 w, 2w)\n",
    "    ## comment id (if there is, otherwise create unique id)\n",
    "    ## post ID \n",
    "\n",
    "\n",
    "\n",
    "# TODO: run langdetect \n"
   ]
  }
 ],
 "metadata": {
  "kernelspec": {
   "display_name": "base",
   "language": "python",
   "name": "python3"
  },
  "language_info": {
   "codemirror_mode": {
    "name": "ipython",
    "version": 3
   },
   "file_extension": ".py",
   "mimetype": "text/x-python",
   "name": "python",
   "nbconvert_exporter": "python",
   "pygments_lexer": "ipython3",
   "version": "3.12.7"
  }
 },
 "nbformat": 4,
 "nbformat_minor": 2
}
